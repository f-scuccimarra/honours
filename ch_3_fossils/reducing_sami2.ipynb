{
 "cells": [
  {
   "cell_type": "code",
   "execution_count": 1,
   "id": "33f7b77b",
   "metadata": {},
   "outputs": [
    {
     "name": "stdout",
     "output_type": "stream",
     "text": [
      "Table info: \n",
      "\n",
      "<Table length=3712>\n",
      "   name    dtype   unit  n_bad\n",
      "--------- ------- ------ -----\n",
      "   CUBEID bytes80            0\n",
      "CUBEIDPUB bytes16            0\n",
      " CUBENAME bytes80            0\n",
      "    CATID   int64            0\n",
      "    RFLAG  bytes1            0\n",
      " CUBEFWHM float32 arcsec     0\n",
      " CUBETEXP float32      s     0\n",
      "MEANTRANS float32            0\n",
      "   ISBEST    bool            0\n",
      "CATSOURCE   int16            0\n",
      "   Z_SPEC float32          286\n",
      "Table info: \n",
      "\n",
      "<Table length=204110>\n",
      "     name      dtype    unit     class    \n",
      "------------- ------- ------- ------------\n",
      "       CATAID   int32         MaskedColumn\n",
      "           RA float64     deg       Column\n",
      "          Dec float64     deg       Column\n",
      "            Z float32               Column\n",
      "       Rpetro float32     mag       Column\n",
      " DM_100_25_75 float32     mag       Column\n",
      "  SURVEY_CODE   int16         MaskedColumn\n",
      "       SigErr float32  km / s       Column\n",
      "      GroupID   int32         MaskedColumn\n",
      "  RankIterCen   int16         MaskedColumn\n",
      "   SepIterCen float32  arcsec       Column\n",
      " CoSepIterCen float32 Mpc / h       Column\n",
      "AngSepIterCen float32 Mpc / h       Column\n",
      "      RankBCG   int16         MaskedColumn\n",
      "       SepBCG float32  arcsec       Column\n",
      "     CoSepBCG float32 Mpc / h       Column\n",
      "    AngSepBCG float32 Mpc / h       Column\n",
      "      RankCen   int16         MaskedColumn\n",
      "       SepCen float32  arcsec       Column\n",
      "     CoSepCen float32 Mpc / h       Column\n",
      "    AngSepCen float32 Mpc / h       Column\n",
      "\n",
      "\n",
      "\n"
     ]
    }
   ],
   "source": [
    "# Playing around with SAMI data!\n",
    "\n",
    "import astropy.io.fits as fits\n",
    "import numpy as np\n",
    "from astropy.table import unique,Table\n",
    "from matplotlib.colors import LogNorm\n",
    "import matplotlib.pyplot as plt\n",
    "\n",
    "# Read in sami cube data\n",
    "sami_cube_list = Table.read('/suphys/fscu5535/python_scripts/raw_data/cube_list.fits', format='fits',memmap=True)\n",
    "\n",
    "# Display basic table info\n",
    "print(\"Table info:\",\"\\n\")\n",
    "sami_cube_list.info()\n",
    "\n",
    "# Read in all gama data\n",
    "gama_galaxies = Table.read('/suphys/fscu5535/python_scripts/raw_data/G3CGalv10.fits', format='fits',memmap=True)\n",
    "\n",
    "# Display basic table info\n",
    "print(\"Table info:\",\"\\n\")\n",
    "gama_galaxies.info()\n",
    "\n",
    "print(\"\\n\\n\")\n",
    "\n",
    "# Plot a 1D histogram\n",
    "# groupid_hist = plt.hist(group_finding['RA'], bins='auto')"
   ]
  },
  {
   "cell_type": "code",
   "execution_count": 2,
   "id": "15d66898",
   "metadata": {},
   "outputs": [
    {
     "name": "stdout",
     "output_type": "stream",
     "text": [
      "467 bad entries detected.\n",
      "Removal complete, original table now has 3245 rows.\n",
      "Table written to file.\n",
      "3245\n"
     ]
    }
   ],
   "source": [
    "# Remove all ISBEST == FALSE entries\n",
    "isNOTbest = list()\n",
    "for i in range(len(sami_cube_list)):\n",
    "    if sami_cube_list['ISBEST'][i] == False:\n",
    "        isNOTbest.append(i)\n",
    "print(len(isNOTbest),\"bad entries detected.\")\n",
    "sami_cube_list.remove_rows(isNOTbest)\n",
    "print(\"Removal complete, original table now has\",len(sami_cube_list),\"rows.\")\n",
    "\n",
    "# Output GAMA galaxies that belong to groups\n",
    "sami_cube_list.write(\"cube_list_ISBEST.fits\",format='fits',overwrite=True)\n",
    "print(\"Table written to file.\")\n",
    "\n",
    "# Check that code worked, each CATID is unique\n",
    "unique_by_ID = unique(sami_cube_list,keys='CATID')\n",
    "print(len(unique_by_ID))"
   ]
  },
  {
   "cell_type": "code",
   "execution_count": 18,
   "id": "17b595b1",
   "metadata": {},
   "outputs": [
    {
     "name": "stdout",
     "output_type": "stream",
     "text": [
      "2147 matches found!\n",
      "Table written to file.\n"
     ]
    }
   ],
   "source": [
    "# Go through the SAMI and GAMA CATID columns and store all matches in a list\n",
    "sami_cube_list_ISBEST = Table.read('cube_list_ISBEST.fits',format='fits',memmap=True)\n",
    "\n",
    "# Initialise lists to store ID's and row numbers\n",
    "gama_ALL_galaxies_in_sami = list()\n",
    "gama_ALL_galaxies_in_sami_row = list()\n",
    "for i in range(len(gama_galaxies)):\n",
    "    for j in range(len(sami_cube_list_ISBEST)):\n",
    "        if gama_galaxies['CATAID'][i] == sami_cube_list_ISBEST['CATID'][j]:\n",
    "            gama_ALL_galaxies_in_sami.append(gama_galaxies['CATAID'][i])\n",
    "            gama_ALL_galaxies_in_sami_row.append(i)\n",
    "print(len(gama_ALL_galaxies_in_sami),\"matches found!\")\n",
    "\n",
    "# Store in a table\n",
    "gama_CATAID_in_sami = Table([gama_ALL_galaxies_in_sami_row,gama_ALL_galaxies_in_sami], names =('Row_in_G3CGalv10','CATAID'))\n",
    "\n",
    "# Write table to file\n",
    "gama_CATAID_in_sami.write('GAMA_CATAID_in_SAMIv2.fits',format='fits')\n",
    "print(\"Table written to file.\")"
   ]
  },
  {
   "cell_type": "code",
   "execution_count": null,
   "id": "cdd0f95a",
   "metadata": {},
   "outputs": [],
   "source": []
  }
 ],
 "metadata": {
  "kernelspec": {
   "display_name": "Python 3 (ipykernel)",
   "language": "python",
   "name": "python3"
  },
  "language_info": {
   "codemirror_mode": {
    "name": "ipython",
    "version": 3
   },
   "file_extension": ".py",
   "mimetype": "text/x-python",
   "name": "python",
   "nbconvert_exporter": "python",
   "pygments_lexer": "ipython3",
   "version": "3.8.13"
  }
 },
 "nbformat": 4,
 "nbformat_minor": 5
}
