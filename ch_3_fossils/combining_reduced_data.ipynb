{
 "cells": [
  {
   "cell_type": "code",
   "execution_count": 11,
   "id": "7c798ddc",
   "metadata": {
    "scrolled": false
   },
   "outputs": [
    {
     "name": "stdout",
     "output_type": "stream",
     "text": [
      "<Table length=2147>\n",
      "    name     dtype     unit      class     n_bad\n",
      "----------- ------- --------- ------------ -----\n",
      "     CATAID   int32           MaskedColumn     0\n",
      "    GroupID   int32           MaskedColumn     0\n",
      "RankIterCen   int16           MaskedColumn     0\n",
      "    RankBCG   int16           MaskedColumn     0\n",
      "   logmstar float32 dex(Msun)       Column     0\n",
      " LAMBDAR_RE float32                 Column   983\n",
      "  ISIterCen    bool                 Column     0\n",
      "      ISBCG    bool                 Column     0\n",
      " CATAID GroupID RankIterCen RankBCG  logmstar LAMBDAR_RE ISIterCen ISBCG\n",
      "                                    dex(Msun)                           \n",
      "------- ------- ----------- ------- --------- ---------- --------- -----\n",
      "   6821       0        -999    -999 7.3118334        nan     False False\n",
      "   6837  203007           1       1   9.82991        nan      True  True\n",
      "   7139  203032           1       1 10.858629        nan      True  True\n",
      "   7206  203039           1       1 10.410899 0.54937583      True  True\n",
      "   7289  203048           1       1 11.081309 0.07193211      True  True\n",
      "   7715  200836           1       1 10.942653        nan      True  True\n",
      "   7839  201452           1       1 10.977997 0.32422054      True  True\n",
      "    ...     ...         ...     ...       ...        ...       ...   ...\n",
      "3634556  101283           1       1 10.910866        nan      True  True\n",
      "3894635       0        -999    -999  10.07547        nan     False False\n",
      "3895257       0        -999    -999 10.267528        nan     False False\n",
      "3895503       0        -999    -999 10.005438        nan     False False\n",
      "3895823       0        -999    -999 10.037796        nan     False False\n",
      "3896912       0        -999    -999  9.237408        nan     False False\n",
      "3897281  107336           1       1 10.203136        nan      True  True\n",
      "3913888       0        -999    -999 10.282226        nan     False False\n",
      "Length = 2147 rows\n"
     ]
    }
   ],
   "source": [
    "# Here we combine all relevant columns from all relevant catalogues into one!\n",
    "import astropy.io.fits as fits\n",
    "import numpy as np\n",
    "from astropy.table import unique,Table,setdiff,join,hstack\n",
    "from matplotlib.colors import LogNorm\n",
    "import matplotlib.pyplot as plt\n",
    "import warnings\n",
    "warnings.filterwarnings(\"ignore\")\n",
    "\n",
    "\n",
    "# Read in tables to use\n",
    "GAMA_galaxies = Table.read('/suphys/fscu5535/python_scripts/mod_data/GAMA_galaxies_in_SAMI.fits',format='fits',memmap=True)\n",
    "StellarMassesPanChrom = Table.read('~/python_scripts/mod_data/StellarMassesPanChrom_in_SAMI.fits',format='fits',memmap=True)\n",
    "SAMIDR3Stelkin = Table.read('~/python_scripts/mod_data/samiDR3Stelkin_in_GAMA.fits',format='fits',memmap=True)\n",
    "ISIterCen = Table.read('~/python_scripts/mod_data/ISIterCenCATAID.fits',format='fits',memmap=True)\n",
    "ISBCG = Table.read('/suphys/fscu5535/python_scripts/mod_data/ISBCG_in_SAMI',format='fits',memmap=True)\n",
    "\n",
    "#\n",
    "\n",
    "# Combine into one table\n",
    "combined_table = hstack([GAMA_galaxies['CATAID','GroupID','RankIterCen','RankBCG'],StellarMassesPanChrom['logmstar'],SAMIDR3Stelkin['LAMBDAR_RE'],ISIterCen,ISBCG])\n",
    "combined_table.info()\n",
    "print(combined_table)\n",
    "\n",
    "\n"
   ]
  },
  {
   "cell_type": "code",
   "execution_count": 14,
   "id": "9662dffd",
   "metadata": {},
   "outputs": [
    {
     "name": "stdout",
     "output_type": "stream",
     "text": [
      "matching bcgs: 614\n",
      "ISBCG count: 614\n",
      "matching itercens: 606\n",
      "ISIterCen count: 606\n"
     ]
    }
   ],
   "source": [
    "combined_sorted_relevant2 = combined_table\n",
    "\n",
    "# Checking to make sure IS columns align\n",
    "matching_BCG = 0\n",
    "ISBCG_count = 0\n",
    "ISIterCen_count = 0\n",
    "matching_IterCen = 0\n",
    "for i in range(len(combined_sorted_relevant2)):\n",
    "    if combined_sorted_relevant2['ISIterCen'][i] == True:\n",
    "        ISIterCen_count += 1\n",
    "        if combined_sorted_relevant2['RankIterCen'][i] == 1:\n",
    "            matching_IterCen += 1\n",
    "    if combined_sorted_relevant2['ISBCG'][i] == True:\n",
    "        ISBCG_count +=1\n",
    "        if combined_sorted_relevant2['RankBCG'][i] == 1:\n",
    "            matching_BCG += 1\n",
    "print(\"matching bcgs:\",matching_BCG)\n",
    "print(\"ISBCG count:\", ISBCG_count)\n",
    "print(\"matching itercens:\",matching_IterCen)\n",
    "print(\"ISIterCen count:\",ISIterCen_count)"
   ]
  },
  {
   "cell_type": "code",
   "execution_count": 17,
   "id": "c9927976",
   "metadata": {},
   "outputs": [
    {
     "name": "stdout",
     "output_type": "stream",
     "text": [
      "0\n"
     ]
    }
   ],
   "source": [
    "# So they do. Hence, data was sorted to begin with! Since IS columns h\n"
   ]
  },
  {
   "cell_type": "code",
   "execution_count": 16,
   "id": "aa224d8d",
   "metadata": {},
   "outputs": [
    {
     "data": {
      "image/png": "[encoded data removed]",
      "text/plain": [
       "<Figure size 432x288 with 1 Axes>"
      ]
     },
     "metadata": {
      "needs_background": "light"
     },
     "output_type": "display_data"
    }
   ],
   "source": [
    "lambdar_hist = plt.hist(combined_sorted_relevant2['LAMBDAR_RE'],bins='auto')"
   ]
  },
  {
   "cell_type": "code",
   "execution_count": null,
   "id": "033047b3",
   "metadata": {},
   "outputs": [],
   "source": []
  }
 ],
 "metadata": {
  "kernelspec": {
   "display_name": "Python 3 (ipykernel)",
   "language": "python",
   "name": "python3"
  },
  "language_info": {
   "codemirror_mode": {
    "name": "ipython",
    "version": 3
   },
   "file_extension": ".py",
   "mimetype": "text/x-python",
   "name": "python",
   "nbconvert_exporter": "python",
   "pygments_lexer": "ipython3",
   "version": "3.8.13"
  }
 },
 "nbformat": 4,
 "nbformat_minor": 5
}
