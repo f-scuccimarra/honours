{
 "cells": [
  {
   "cell_type": "code",
   "execution_count": 70,
   "id": "e1f54495",
   "metadata": {},
   "outputs": [
    {
     "name": "stdout",
     "output_type": "stream",
     "text": [
      "Table info: \n",
      "\n",
      "<Table length=3426>\n",
      "          name           dtype  n_bad\n",
      "----------------------- ------- -----\n",
      "                 CUBEID bytes70     0\n",
      "              CUBEIDPUB bytes12     0\n",
      "               CUBENAME bytes71     0\n",
      "                  CATID   int64     0\n",
      "             PA_STELKIN float32   611\n",
      "         PA_STELKIN_ERR float32   611\n",
      "               SIGMA_RE float32  1175\n",
      "           SIGMA_RE_ERR float32  1175\n",
      "       SIGMA_3KPC_ROUND float32   799\n",
      "   SIGMA_3KPC_ROUND_ERR float32   799\n",
      "    SIGMA_1_4_ARCSECOND float32  1019\n",
      "SIGMA_1_4_ARCSECOND_ERR float32  1019\n",
      "      SIGMA_2_ARCSECOND float32   879\n",
      "  SIGMA_2_ARCSECOND_ERR float32   879\n",
      "      SIGMA_3_ARCSECOND float32   801\n",
      "  SIGMA_3_ARCSECOND_ERR float32   801\n",
      "      SIGMA_4_ARCSECOND float32   775\n",
      "  SIGMA_4_ARCSECOND_ERR float32   775\n",
      "         APER_CORR_FLAG float32  1468\n",
      "         RMAX_APER_CORR float32  1468\n",
      "             LAMBDAR_RE float32  1496\n",
      "         LAMBDAR_RE_ERR float32  1496\n",
      "            LAMBDAR_MAX float32  2989\n",
      "        LAMBDAR_MAX_ERR float32  2989\n",
      "              VSIGMA_RE float32  1496\n",
      "          VSIGMA_RE_ERR float32  1496\n",
      "             VSIGMA_MAX float32  2989\n",
      "         VSIGMA_MAX_ERR float32  2989\n",
      "            MEAN_K51_RE float32  1707\n",
      "        MEAN_K51_RE_ERR float32  1707\n",
      "           SIGMA_RE_MGE float32  1049\n",
      "       SIGMA_RE_MGE_ERR float32  1049\n",
      "     APER_CORR_FLAG_MGE float32  1536\n",
      "     RMAX_APER_CORR_MGE float32  1536\n",
      "         LAMBDAR_RE_MGE float32  1593\n",
      "     LAMBDAR_RE_MGE_ERR float32  1593\n",
      "        LAMBDAR_MAX_MGE float32  3125\n",
      "    LAMBDAR_MAX_MGE_ERR float32  3125\n",
      "          VSIGMA_RE_MGE float32  1593\n",
      "      VSIGMA_RE_MGE_ERR float32  1593\n",
      "         VSIGMA_MAX_MGE float32  3125\n",
      "     VSIGMA_MAX_MGE_ERR float32  3125\n",
      "        MEAN_K51_RE_MGE float32  1713\n",
      "    MEAN_K51_RE_MGE_ERR float32  1713\n",
      "\n",
      "\n",
      "\n",
      "<Table length=3245>\n",
      "   name    dtype   unit  n_bad\n",
      "--------- ------- ------ -----\n",
      "   CUBEID bytes80            0\n",
      "CUBEIDPUB bytes16            0\n",
      " CUBENAME bytes80            0\n",
      "    CATID   int64            0\n",
      "    RFLAG  bytes1            0\n",
      " CUBEFWHM float32 arcsec     0\n",
      " CUBETEXP float32      s     0\n",
      "MEANTRANS float32            0\n",
      "   ISBEST    bool            0\n",
      "CATSOURCE   int16            0\n",
      "   Z_SPEC float32          177\n",
      "\n",
      "\n",
      "\n"
     ]
    }
   ],
   "source": [
    "# Having a look at the SAMI stellar kinematic data and possibly reducing it!\n",
    "\n",
    "import astropy.io.fits as fits\n",
    "import numpy as np\n",
    "from astropy.table import unique,Table,setdiff\n",
    "from matplotlib.colors import LogNorm\n",
    "import matplotlib.pyplot as plt\n",
    "\n",
    "# Convert FITS data into astropy table\n",
    "samiDR3Stelkin = Table.read('/suphys/fscu5535/python_scripts/raw_data/samiDR3Stelkin.fits', format='fits',memmap=True)\n",
    "GAMA_galaxies_in_SAMI = Table.read('/suphys/fscu5535/python_scripts/mod_data/GAMA_galaxies_in_SAMI.fits', format='fits',memmap=True)\n",
    "cube_list_ISBEST = Table.read('cube_list_ISBEST.fits',format='fits',memmap=True)\n",
    "\n",
    "\n",
    "# Display basic table info\n",
    "print(\"Table info:\",\"\\n\")\n",
    "samiDR3Stelkin.info()\n",
    "print(\"\\n\\n\")\n",
    "cube_list_ISBEST.info()\n",
    "print(\"\\n\\n\")\n",
    "\n"
   ]
  },
  {
   "cell_type": "code",
   "execution_count": 17,
   "id": "decf9f6c",
   "metadata": {},
   "outputs": [
    {
     "name": "stdout",
     "output_type": "stream",
     "text": [
      "2147 matching galaxies found!\n",
      "1098 to be removed\n"
     ]
    }
   ],
   "source": [
    "# Find all the rows of CATAID's that aren't in both GAMA and SAMI. Count is there as a check\n",
    "rows_to_remove = list()\n",
    "count = 0\n",
    "for i in range(len(cube_list_ISBEST)):\n",
    "    inBoth = False\n",
    "    for j in range(len(GAMA_galaxies_in_SAMI)):\n",
    "        if (cube_list_ISBEST['CATID'][i] == GAMA_galaxies_in_SAMI['CATAID'][j]) and inBoth == False :\n",
    "            inBoth = True\n",
    "            count +=1\n",
    "    if inBoth == False:\n",
    "        rows_to_remove.append(i)\n",
    "print(count,\"matching galaxies found!\")\n",
    "print(len(rows_to_remove),\"to be removed\")\n",
    "\n",
    "# Now remove the rows from cube_list_ISBEST\n",
    "rows_to_remove_table = Table()\n",
    "rows_to_remove_table['row_number'] = rows_to_remove\n",
    "cube_list_ISBEST.remove_rows(rows_to_remove_table['row_number'])\n",
    "print(len(cube_list_ISBEST),\"galaxies retained.\")\n",
    "\n",
    "# Sort by CATID and write the reduced table to file\n",
    "cube_list_ISBEST.sort('CATID')\n",
    "cube_list_ISBEST.write('/suphys/fscu5535/python_scripts/mod_data/cube_list_ISBEST_in_GAMA.fits',format='fits')\n",
    "\n"
   ]
  },
  {
   "cell_type": "code",
   "execution_count": 50,
   "id": "85bc7f2d",
   "metadata": {},
   "outputs": [
    {
     "name": "stdout",
     "output_type": "stream",
     "text": [
      "2147\n"
     ]
    }
   ],
   "source": [
    "# Now compare cube_list_ISBEST_in_GAMA with GAMA_galaxies_in_GAMA to make sure everything is correct\n",
    "cube_list_ISBEST_in_GAMA = Table.read('/suphys/fscu5535/python_scripts/mod_data/cube_list_ISBEST_in_GAMA.fits',format='fits',memmap=True)\n",
    "matching = 0\n",
    "for i in range(len(GAMA_galaxies_in_SAMI)):\n",
    "    if GAMA_galaxies_in_SAMI['CATAID'][i] == cube_list_ISBEST_in_GAMA['CATID'][i]:\n",
    "        matching += 1\n",
    "print(matching)"
   ]
  },
  {
   "cell_type": "code",
   "execution_count": 167,
   "id": "58557d3d",
   "metadata": {},
   "outputs": [
    {
     "name": "stdout",
     "output_type": "stream",
     "text": [
      "Matching complete, 1279 to be removed\n",
      "Number of rows that will remain: 2147\n"
     ]
    }
   ],
   "source": [
    "# Now we want to remove all the rows in samiDR3Stelkin that don't have a matching CUBEID in cube_list_ISBEST_in_GAMA\n",
    "samiDR3Stelkin = Table.read('/suphys/fscu5535/python_scripts/raw_data/samiDR3Stelkin.fits',format='fits',memmap=True)\n",
    "import string\n",
    "rows_to_remove = list()\n",
    "for i in range(len(samiDR3Stelkin)):\n",
    "    matching = False\n",
    "    for j in range(len(cube_list_ISBEST_in_GAMA)):\n",
    "        if matching == False and cube_list_ISBEST_in_GAMA['CUBENAME'][j] == samiDR3Stelkin['CUBENAME'][i].strip():\n",
    "            matching = True\n",
    "    if matching == False:\n",
    "        rows_to_remove.append(i)\n",
    "print(\"Matching complete,\",len(rows_to_remove),\"to be removed\")\n",
    "print(\"Number of rows that will remain:\",len(samiDR3Stelkin)-len(rows_to_remove))\n",
    "\n",
    "# Now remove the rows from samiDR3Stelkin and write to file\n",
    "rows_to_remove_table = Table()\n",
    "rows_to_remove_table['row_number'] = rows_to_remove\n",
    "samiDR3Stelkin.remove_rows(rows_to_remove_table['row_number'])\n",
    "print(len(samiDR3Stelkin),\"galaxies retained.\")\n",
    "samiDR3Stelkin.write('/suphys/fscu5535/python_scripts/mod_data/samiDR3Stelkin_in_GAMA.fits',format='fits',overwrite=True)\n",
    "        "
   ]
  },
  {
   "cell_type": "code",
   "execution_count": 173,
   "id": "7bb0bcd3",
   "metadata": {},
   "outputs": [
    {
     "name": "stdout",
     "output_type": "stream",
     "text": [
      "stelkin and cube_list: 2147\n",
      "stelkin and g3cgal: 2147\n"
     ]
    }
   ],
   "source": [
    "# Now compare samiDR3Stelkin_in_GAMA with GAMA_galaxies_in_GAMA to make sure everything is correct\n",
    "samiDR3Stelkin_in_GAMA = Table.read('/suphys/fscu5535/python_scripts/mod_data/samiDR3Stelkin_in_GAMA.fits',format='fits',memmap=True)\n",
    "samiDR3Stelkin_in_GAMA.sort('CATID')\n",
    "cube_list_ISBEST_in_GAMA.sort('CATID')\n",
    "matching_stelkin_cube = 0\n",
    "matching_stelkin_g3cgal = 0\n",
    "for i in range(len(samiDR3Stelkin_in_GAMA)):\n",
    "    if samiDR3Stelkin_in_GAMA['CATID'][i] == cube_list_ISBEST_in_GAMA['CATID'][i]:\n",
    "        matching_stelkin_cube += 1\n",
    "    if samiDR3Stelkin_in_GAMA['CATID'][i] == GAMA_galaxies_in_SAMI['CATAID'][i]:\n",
    "        matching_stelkin_g3cgal += 1\n",
    "print(\"stelkin and cube_list:\",matching_stelkin_cube)\n",
    "print(\"stelkin and g3cgal:\",matching_stelkin_g3cgal)"
   ]
  },
  {
   "cell_type": "code",
   "execution_count": null,
   "id": "7ecf817b",
   "metadata": {},
   "outputs": [],
   "source": []
  }
 ],
 "metadata": {
  "kernelspec": {
   "display_name": "Python 3 (ipykernel)",
   "language": "python",
   "name": "python3"
  },
  "language_info": {
   "codemirror_mode": {
    "name": "ipython",
    "version": 3
   },
   "file_extension": ".py",
   "mimetype": "text/x-python",
   "name": "python",
   "nbconvert_exporter": "python",
   "pygments_lexer": "ipython3",
   "version": "3.8.13"
  }
 },
 "nbformat": 4,
 "nbformat_minor": 5
}
