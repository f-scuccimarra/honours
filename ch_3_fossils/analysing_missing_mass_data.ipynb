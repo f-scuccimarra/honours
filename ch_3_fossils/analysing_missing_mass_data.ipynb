{
 "cells": [
  {
   "cell_type": "code",
   "execution_count": 6,
   "id": "72e735a5",
   "metadata": {
    "scrolled": true
   },
   "outputs": [
    {
     "name": "stdout",
     "output_type": "stream",
     "text": [
      "<Table length=204110>\n",
      "     name      dtype    unit     class    \n",
      "------------- ------- ------- ------------\n",
      "       CATAID   int32         MaskedColumn\n",
      "           RA float64     deg       Column\n",
      "          Dec float64     deg       Column\n",
      "            Z float32               Column\n",
      "       Rpetro float32     mag       Column\n",
      " DM_100_25_75 float32     mag       Column\n",
      "  SURVEY_CODE   int16         MaskedColumn\n",
      "       SigErr float32  km / s       Column\n",
      "      GroupID   int32         MaskedColumn\n",
      "  RankIterCen   int16         MaskedColumn\n",
      "   SepIterCen float32  arcsec       Column\n",
      " CoSepIterCen float32 Mpc / h       Column\n",
      "AngSepIterCen float32 Mpc / h       Column\n",
      "      RankBCG   int16         MaskedColumn\n",
      "       SepBCG float32  arcsec       Column\n",
      "     CoSepBCG float32 Mpc / h       Column\n",
      "    AngSepBCG float32 Mpc / h       Column\n",
      "      RankCen   int16         MaskedColumn\n",
      "       SepCen float32  arcsec       Column\n",
      "     CoSepCen float32 Mpc / h       Column\n",
      "    AngSepCen float32 Mpc / h       Column\n",
      "<Table length=200828>\n",
      "        name         dtype        unit          class    \n",
      "------------------- ------- ---------------- ------------\n",
      "             CATAID   int32                  MaskedColumn\n",
      "                  Z float32                        Column\n",
      "       comovingdist float32              Mpc       Column\n",
      "           nefffilt float32                        Column\n",
      "            snratio float32                        Column\n",
      "                ppp float32                        Column\n",
      "           nefftemp float32                        Column\n",
      "           logmstar float32        dex(Msun)       Column\n",
      "        dellogmstar float32        dex(Msun)       Column\n",
      "              mstar float32             Msun       Column\n",
      "           delmstar float32             Msun       Column\n",
      "             logage float32          dex(yr)       Column\n",
      "          dellogage float32          dex(yr)       Column\n",
      "             logtau float32          dex(yr)       Column\n",
      "          dellogtau float32          dex(yr)       Column\n",
      "             logmet float32                        Column\n",
      "          dellogmet float32                        Column\n",
      "            dustEBV float32              mag       Column\n",
      "         deldustEBV float32              mag       Column\n",
      "       logmremnants float32        dex(Msun)       Column\n",
      "    dellogmremnants float32        dex(Msun)       Column\n",
      "         logmintsfh float32        dex(Msun)       Column\n",
      "      dellogmintsfh float32        dex(Msun)       Column\n",
      "           logLWage float32          dex(yr)       Column\n",
      "        dellogLWage float32          dex(yr)       Column\n",
      "            uminusr float32              mag       Column\n",
      "         deluminusr float32              mag       Column\n",
      "      uminusr_stars float32              mag       Column\n",
      "   deluminusr_stars float32              mag       Column\n",
      "            gminusi float32              mag       Column\n",
      "         delgminusi float32              mag       Column\n",
      "      gminusi_stars float32              mag       Column\n",
      "   delgminusi_stars float32              mag       Column\n",
      "        logmoverl_i float32 dex(Msun/Lsun,i)       Column\n",
      "     dellogmoverl_i float32 dex(Msun/Lsun,i)       Column\n",
      "          C_logM_gi float32                        Column\n",
      "     C_logM_gistars float32                        Column\n",
      "          C_logM_ur float32                        Column\n",
      "     C_logM_urstars float32                        Column\n",
      "    C_logM_logLWage float32                        Column\n",
      "         C_logM_EBV float32                        Column\n",
      "         absmag_FUV float32              mag       Column\n",
      "      delabsmag_FUV float32              mag       Column\n",
      "         absmag_NUV float32              mag       Column\n",
      "      delabsmag_NUV float32              mag       Column\n",
      "           absmag_u float32              mag       Column\n",
      "        delabsmag_u float32              mag       Column\n",
      "           absmag_g float32              mag       Column\n",
      "        delabsmag_g float32              mag       Column\n",
      "           absmag_r float32              mag       Column\n",
      "        delabsmag_r float32              mag       Column\n",
      "           absmag_i float32              mag       Column\n",
      "        delabsmag_i float32              mag       Column\n",
      "           absmag_Z float32              mag       Column\n",
      "        delabsmag_Z float32              mag       Column\n",
      "           absmag_Y float32              mag       Column\n",
      "        delabsmag_Y float32              mag       Column\n",
      "           absmag_J float32              mag       Column\n",
      "        delabsmag_J float32              mag       Column\n",
      "           absmag_H float32              mag       Column\n",
      "        delabsmag_H float32              mag       Column\n",
      "           absmag_K float32              mag       Column\n",
      "        delabsmag_K float32              mag       Column\n",
      "          absmag_W1 float32              mag       Column\n",
      "       delabsmag_W1 float32              mag       Column\n",
      "          absmag_W2 float32              mag       Column\n",
      "       delabsmag_W2 float32              mag       Column\n",
      "   absmag_FUV_stars float32              mag       Column\n",
      "delabsmag_FUV_stars float32              mag       Column\n",
      "   absmag_NUV_stars float32              mag       Column\n",
      "delabsmag_NUV_stars float32              mag       Column\n",
      "     absmag_u_stars float32              mag       Column\n",
      "  delabsmag_u_stars float32              mag       Column\n",
      "     absmag_g_stars float32              mag       Column\n",
      "  delabsmag_g_stars float32              mag       Column\n",
      "     absmag_r_stars float32              mag       Column\n",
      "  delabsmag_r_stars float32              mag       Column\n",
      "     absmag_i_stars float32              mag       Column\n",
      "  delabsmag_i_stars float32              mag       Column\n",
      "     absmag_Z_stars float32              mag       Column\n",
      "  delabsmag_Z_stars float32              mag       Column\n",
      "     absmag_Y_stars float32              mag       Column\n",
      "  delabsmag_Y_stars float32              mag       Column\n",
      "     absmag_J_stars float32              mag       Column\n",
      "  delabsmag_J_stars float32              mag       Column\n",
      "     absmag_H_stars float32              mag       Column\n",
      "  delabsmag_H_stars float32              mag       Column\n",
      "     absmag_K_stars float32              mag       Column\n",
      "  delabsmag_K_stars float32              mag       Column\n",
      "    absmag_W1_stars float32              mag       Column\n",
      " delabsmag_W1_stars float32              mag       Column\n",
      "    absmag_W2_stars float32              mag       Column\n",
      " delabsmag_W2_stars float32              mag       Column\n",
      "        fitflux_FUV float32               Jy       Column\n",
      "     delfitflux_FUV float32               Jy       Column\n",
      "        fitflux_NUV float32               Jy       Column\n",
      "     delfitflux_NUV float32               Jy       Column\n",
      "          fitflux_u float32               Jy       Column\n",
      "       delfitflux_u float32               Jy       Column\n",
      "          fitflux_g float32               Jy       Column\n",
      "       delfitflux_g float32               Jy       Column\n",
      "          fitflux_r float32               Jy       Column\n",
      "       delfitflux_r float32               Jy       Column\n",
      "          fitflux_i float32               Jy       Column\n",
      "       delfitflux_i float32               Jy       Column\n",
      "          fitflux_Z float32               Jy       Column\n",
      "       delfitflux_Z float32               Jy       Column\n",
      "          fitflux_Y float32               Jy       Column\n",
      "       delfitflux_Y float32               Jy       Column\n",
      "          fitflux_J float32               Jy       Column\n",
      "       delfitflux_J float32               Jy       Column\n",
      "          fitflux_H float32               Jy       Column\n",
      "       delfitflux_H float32               Jy       Column\n",
      "          fitflux_K float32               Jy       Column\n",
      "       delfitflux_K float32               Jy       Column\n",
      "         fitflux_W1 float32               Jy       Column\n",
      "      delfitflux_W1 float32               Jy       Column\n",
      "         fitflux_W2 float32               Jy       Column\n",
      "      delfitflux_W2 float32               Jy       Column\n"
     ]
    }
   ],
   "source": [
    "# Analysing missing mass data\n",
    "import astropy.io.fits as fits\n",
    "import numpy as np\n",
    "from astropy.table import unique,Table,setdiff, hstack,join\n",
    "from matplotlib.colors import LogNorm\n",
    "import matplotlib.pyplot as plt\n",
    "import warnings\n",
    "warnings.filterwarnings(\"ignore\")\n",
    "\n",
    "# Read in G3CGalv10 and StellarMassesPanChromm\n",
    "galaxies = Table.read('/suphys/fscu5535/python_scripts/raw_data/G3CGalv10.fits',memmap=True)\n",
    "galaxies.info()\n",
    "masses = Table.read('/suphys/fscu5535/python_scripts/raw_data/StellarMassesPanChromv24.fits',memmap=True)\n",
    "masses.info()\n",
    "\n",
    "# # Extract relevant columns from each table\n",
    "# galaxiesRel = hstack(galaxies['CATAID','GroupID','RankIterCen'])\n",
    "# massesRel = hstack(masses['CATAID','logmstar'])\n",
    "\n",
    "# # join the resulting tables\n",
    "# galaxiesAndMasses = join(galaxiesRel,massesRel,keys='CATAID')\n",
    "# print(galaxiesAndMasses)"
   ]
  },
  {
   "cell_type": "code",
   "execution_count": 18,
   "id": "64cca560",
   "metadata": {},
   "outputs": [
    {
     "name": "stdout",
     "output_type": "stream",
     "text": [
      "83093\n",
      "199563\n",
      "<Table length=74912>\n",
      "  name  dtype\n",
      "------- -----\n",
      " CATAID int32\n",
      "GroupID int32\n"
     ]
    }
   ],
   "source": [
    "# find number\n",
    "groupCATIDS = []\n",
    "GROUPgroupCATIDS = []\n",
    "for i in range(len(galaxies)):\n",
    "    if galaxies['GroupID'][i] != 0:\n",
    "        groupCATIDS.append(galaxies['CATAID'][i])\n",
    "        GROUPgroupCATIDS.append(galaxies['GroupID'][i])\n",
    "        \n",
    "print(len(groupCATIDS))\n",
    "\n",
    "\n",
    "massCATIDS = []\n",
    "for i in range(len(masses)):\n",
    "    if masses['logmstar'][i] > 0:\n",
    "        massCATIDS.append(masses['CATAID'][i])\n",
    "        \n",
    "print(len(massCATIDS))\n",
    "        \n",
    "# Extract relevant columns from each table\n",
    "galaxiesRel = Table()\n",
    "galaxiesRel['CATAID'] = groupCATIDS\n",
    "galaxiesRel['GroupID'] = GROUPgroupCATIDS\n",
    "\n",
    "massesRel = Table()\n",
    "massesRel['CATAID'] = massCATIDS\n",
    "\n",
    "# join the resulting tables\n",
    "galaxiesAndMasses = join(galaxiesRel,massesRel,keys='CATAID')\n",
    "galaxiesAndMasses.info()\n",
    "        "
   ]
  },
  {
   "cell_type": "code",
   "execution_count": 24,
   "id": "2e81e3cf",
   "metadata": {},
   "outputs": [
    {
     "name": "stdout",
     "output_type": "stream",
     "text": [
      "23643\n",
      "26194\n",
      "2551\n",
      "0.0984559469510067\n",
      "8181\n",
      "10.194611\n"
     ]
    }
   ],
   "source": [
    "print(len(set(galaxiesAndMasses['GroupID'])))\n",
    "print(len(set(galaxiesRel['GroupID'])))\n",
    "print((len(set(galaxiesRel['GroupID']))-len(set(galaxiesAndMasses['GroupID']))))\n",
    "print((83093-74912)/83093)\n",
    "print(83093-74912)\n",
    "print(np.mean(masses['logmstar']))"
   ]
  },
  {
   "cell_type": "markdown",
   "id": "b3f4a116",
   "metadata": {},
   "source": [
    "# plt.figure(figsize=(8,6),dpi=100)251\n",
    "plt.hist(masses['logmstar'])"
   ]
  },
  {
   "cell_type": "code",
   "execution_count": 110,
   "id": "d0d3aebd",
   "metadata": {},
   "outputs": [
    {
     "name": "stdout",
     "output_type": "stream",
     "text": [
      "Matching complete, 109052 to be removed\n",
      "Number of rows that will remain: 75029\n",
      "75029 galaxies retained.\n"
     ]
    }
   ],
   "source": [
    "# Remove all ungrouped galaxies (RankIterCen == -999 or GroupID == 0)\n",
    "rows_to_remove = list()\n",
    "for i in range(len(galaxiesAndMasses)):\n",
    "    if galaxiesAndMasses['RankIterCen'][i] == -999 or galaxiesAndMasses['GroupID'][i] == 0:\n",
    "        rows_to_remove.append(i)\n",
    "print(\"Matching complete,\",len(rows_to_remove),\"to be removed\")\n",
    "print(\"Number of rows that will remain:\",len(galaxiesAndMasses)-len(rows_to_remove))\n",
    "\n",
    "# Convert list to table and remove from tabletoReduce\n",
    "rows_to_remove_table = Table()\n",
    "rows_to_remove_table['row_number'] = rows_to_remove\n",
    "galaxiesAndMasses.remove_rows(rows_to_remove_table['row_number'])\n",
    "print(len(galaxiesAndMasses),\"galaxies retained.\")\n"
   ]
  },
  {
   "cell_type": "code",
   "execution_count": 111,
   "id": "be2219a8",
   "metadata": {},
   "outputs": [
    {
     "name": "stdout",
     "output_type": "stream",
     "text": [
      "117 galaxies with missing masses out of 75029\n",
      "[200370, 200370, 200370, 301450, 203550, 300821, 203661, 203838, 302730, 303427, 303426, 303427, 203894, 200610, 300150, 303671, 300126, 303709, 303708, 303772, 204327, 200053, 204470, 204800, 201967, 200426, 202060, 200139, 201131, 100128, 300166, 300005, 300946, 300594, 200006, 200006, 200006, 206749, 300048, 301971, 300282, 304842, 300618, 300291, 300291, 207135, 207135, 202681, 202681, 202681, 100179, 100179, 100179, 305649, 302274, 304720, 301021, 104184, 100367, 101776, 104331, 104331, 305986, 101821, 101821, 104465, 104472, 104655, 100263, 100568, 101951, 101951, 101951, 105070, 105070, 104959, 105278, 105337, 300700, 306584, 301262, 307069, 100116, 102185, 105541, 100630, 207314, 202740, 207315, 200792, 307155, 302730, 302730, 100280, 106104, 300509, 300509, 300509, 300509, 300335, 307696, 307996, 106309, 106309, 100001, 106412, 303671, 205690, 305793, 102115, 307155, 102518, 100686, 106690, 107272, 107359, 107359]\n"
     ]
    },
    {
     "data": {
      "image/png": "[encoded data removed]",
      "text/plain": [
       "<Figure size 432x288 with 1 Axes>"
      ]
     },
     "metadata": {
      "needs_background": "light"
     },
     "output_type": "display_data"
    }
   ],
   "source": [
    "# See how many galaxies have missing mass and what their Rank is\n",
    "IDMissingMass = list()\n",
    "RankMissingMass = list()\n",
    "GroupIDMissing = list()\n",
    "\n",
    "for i in range(len(galaxiesAndMasses)):\n",
    "    if galaxiesAndMasses['logmstar'][i] == 0:\n",
    "        IDMissingMass.append(galaxiesAndMasses['CATAID'][i])\n",
    "        RankMissingMass.append(galaxiesAndMasses['RankIterCen'][i])\n",
    "        GroupIDMissing.append(galaxiesAndMasses['GroupID'][i])\n",
    "\n",
    "RankMissingMassHist = plt.hist(RankMissingMass,bins='auto')\n",
    "print(len(IDMissingMass),\"galaxies with missing masses out of\",len(galaxiesAndMasses))\n",
    "print(GroupIDMissing)"
   ]
  },
  {
   "cell_type": "code",
   "execution_count": 112,
   "id": "a5adf132",
   "metadata": {},
   "outputs": [
    {
     "name": "stdout",
     "output_type": "stream",
     "text": [
      "92\n",
      "GroupID\n",
      "-------\n",
      " 100001\n",
      " 100116\n",
      " 100128\n",
      " 100179\n",
      " 100263\n",
      " 100280\n",
      " 100367\n",
      "    ...\n",
      " 305793\n",
      " 305986\n",
      " 306584\n",
      " 307069\n",
      " 307155\n",
      " 307696\n",
      " 307996\n",
      "Length = 92 rows\n"
     ]
    }
   ],
   "source": [
    "GroupIDMissingTable = Table()\n",
    "GroupIDMissingTable['GroupID'] = GroupIDMissing\n",
    "GroupIDMissingUnique = unique(GroupIDMissingTable)\n",
    "print(len(GroupIDMissingUnique))\n",
    "print(GroupIDMissingUnique)"
   ]
  },
  {
   "cell_type": "code",
   "execution_count": 113,
   "id": "4408eddd",
   "metadata": {},
   "outputs": [
    {
     "name": "stdout",
     "output_type": "stream",
     "text": [
      "Matching complete, 596 to be removed\n",
      "Number of rows that will remain: 74433\n",
      "74433 galaxies retained.\n",
      "Written to file\n"
     ]
    }
   ],
   "source": [
    "# Now remove all the galaxies that belong to these groups\n",
    "# Iterate through both tables, comparing the two columns and removing any entries that don't match\n",
    "\n",
    "rows_to_remove = list()\n",
    "for i in range(len(galaxiesAndMasses)):\n",
    "    for j in range(len(GroupIDMissingUnique)):\n",
    "        if galaxiesAndMasses['GroupID'][i] == GroupIDMissingUnique['GroupID'][j]:\n",
    "            rows_to_remove.append(i)\n",
    "print(\"Matching complete,\",len(rows_to_remove),\"to be removed\")\n",
    "print(\"Number of rows that will remain:\",len(galaxiesAndMasses)-len(rows_to_remove))\n",
    "\n",
    "# Convert list to table and remove from tabletoReduce. Then write to file.  \n",
    "rows_to_remove_table = Table()\n",
    "rows_to_remove_table['row_number'] = rows_to_remove\n",
    "galaxiesAndMasses.remove_rows(rows_to_remove_table['row_number'])\n",
    "print(len(galaxiesAndMasses),\"galaxies retained.\")\n",
    "galaxiesAndMasses.write('/suphys/fscu5535/python_scripts/mod_data/galaxiesAndMassesOnlyGroupsNoMissingMasses.fits',format='fits',overwrite=True)\n",
    "print(\"Written to file\")"
   ]
  },
  {
   "cell_type": "code",
   "execution_count": 115,
   "id": "07b3465a",
   "metadata": {},
   "outputs": [
    {
     "name": "stdout",
     "output_type": "stream",
     "text": [
      "0\n",
      "0\n",
      "0\n",
      "<Table length=74433>\n",
      "    name     dtype     unit      class    \n",
      "----------- ------- --------- ------------\n",
      "     CATAID   int32           MaskedColumn\n",
      "    GroupID   int32           MaskedColumn\n",
      "RankIterCen   int16           MaskedColumn\n",
      "   logmstar float32 dex(Msun)       Column\n"
     ]
    }
   ],
   "source": [
    "# now check that this table only has grouped galaxies with mass data\n",
    "missingMass = 0\n",
    "ungroupedbyRank = 0\n",
    "ungroupedbyGroupID = 0\n",
    "for i in range(len(galaxiesAndMasses)):\n",
    "    if galaxiesAndMasses['logmstar'][i] == 0:\n",
    "        missingMass += 1\n",
    "    if galaxiesAndMasses['RankIterCen'][i] == -999:\n",
    "        ungroupedbyRank += 1\n",
    "    if galaxiesAndMasses['GroupID'][i] == 0:\n",
    "        ungroupedbyGroupID += 1\n",
    "print(missingMass)\n",
    "print(ungroupedbyRank)\n",
    "print(ungroupedbyGroupID)\n",
    "galaxiesAndMasses.info()"
   ]
  },
  {
   "cell_type": "code",
   "execution_count": 116,
   "id": "3bb8bb99",
   "metadata": {},
   "outputs": [
    {
     "name": "stdout",
     "output_type": "stream",
     "text": [
      "23562 heaviest galaxy IDs found\n",
      "[599753, 601103, 549404, 418238, 372123, 3586877, 203295, 3853225, 377247, 551525, 641935, 419487, 599911, 347976, 574791, 214250, 418947, 204691, 377672, 419342, 623542, 198154, 574622, 381206, 214484, 215479, 3905119, 3913313, 300508, 387849, 518958, 205038, 214613, 381752, 383269, 417750, 600875, 210675, 279786, 300929, 301942, 322923, 551505, 300595, 346676, 386813, 422219, 600630, 323174, 324767]\n"
     ]
    }
   ],
   "source": [
    "# Excellent. Now group data by groupID and sort by logmstar. Then extract the CATAID's all the heaviest galaxy\n",
    "# in each group.\n",
    "\n",
    "galaxiesAndMassesGrouped = galaxiesAndMasses.group_by('GroupID')\n",
    "galaxiesAndMassesGrouped.sort(['GroupID','logmstar'])\n",
    "\n",
    "heaviestGalaxyIDs = list()\n",
    "heaviestGalaxyGroupIDs = list()\n",
    "for i in range(len(galaxiesAndMassesGrouped.groups)):\n",
    "        lastEntry = len(galaxiesAndMassesGrouped.groups[i])-1\n",
    "        heaviestGalaxyIDs.append(galaxiesAndMassesGrouped.groups[i][lastEntry]['CATAID'])\n",
    "        heaviestGalaxyGroupIDs.append(galaxiesAndMassesGrouped.groups[i][lastEntry]['GroupID'])\n",
    "        \n",
    "print(len(heaviestGalaxyIDs), \"heaviest galaxy IDs found\")\n",
    "print(heaviestGalaxyIDs[0:50])\n",
    "\n",
    "# Form data into a table\n",
    "heaviestGalaxyData = Table()\n",
    "heaviestGalaxyData['CATAID'] = heaviestGalaxyIDs\n",
    "heaviestGalaxyData['GroupID'] = heaviestGalaxyGroupIDs\n"
   ]
  },
  {
   "cell_type": "code",
   "execution_count": 118,
   "id": "7c4bf7c9",
   "metadata": {},
   "outputs": [
    {
     "name": "stdout",
     "output_type": "stream",
     "text": [
      "Matching complete, 22964 galaxies not in SAMI\n",
      "22964 groups need to be removed\n"
     ]
    }
   ],
   "source": [
    "# Now we want to go through the Stelkin table and find all the GroupIDs whose heaviest\n",
    "# galaxies are not in SAMI\n",
    "\n",
    "Stelkin = Table.read('/suphys/fscu5535/python_scripts/mod_data/samiDR3Stelkin_in_GAMA.fits',memmap=True)\n",
    "\n",
    "# Iterate through both tables, comparing the two columns and removing any entries that don't match\n",
    "\n",
    "GroupIDsToRemove = list()\n",
    "for i in range(len(heaviestGalaxyData)):\n",
    "    matching = False\n",
    "    for j in range(len(Stelkin)):\n",
    "        if matching == False and heaviestGalaxyData['CATAID'][i] == Stelkin['CATAID'][j]:\n",
    "            matching = True\n",
    "            break\n",
    "    if matching == False:\n",
    "        GroupIDsToRemove.append(heaviestGalaxyData['GroupID'][i])\n",
    "print(\"Matching complete,\",len(GroupIDsToRemove),\"galaxies not in SAMI\")\n",
    "GroupIDsToRemoveTable = Table()\n",
    "GroupIDsToRemoveTable['GroupID'] = GroupIDsToRemove\n",
    "print(len(unique(GroupIDsToRemoveTable,keys='GroupID')),\"groups need to be removed\")\n",
    "    "
   ]
  },
  {
   "cell_type": "code",
   "execution_count": 119,
   "id": "e4afb7b0",
   "metadata": {},
   "outputs": [
    {
     "name": "stdout",
     "output_type": "stream",
     "text": [
      "<Table length=22964>\n",
      "  name  dtype\n",
      "------- -----\n",
      "GroupID int32\n",
      "GroupID\n",
      "-------\n",
      " 100002\n",
      " 100003\n",
      " 100004\n",
      " 100005\n",
      " 100007\n",
      " 100008\n",
      " 100009\n",
      "    ...\n",
      " 307994\n",
      " 307995\n",
      " 307997\n",
      " 307999\n",
      " 308000\n",
      " 308001\n",
      " 308002\n",
      "Length = 22964 rows\n"
     ]
    }
   ],
   "source": [
    "GroupIDsToRemoveTable.info()\n",
    "print(GroupIDsToRemoveTable)"
   ]
  },
  {
   "cell_type": "code",
   "execution_count": 121,
   "id": "449199c0",
   "metadata": {},
   "outputs": [
    {
     "name": "stdout",
     "output_type": "stream",
     "text": [
      "<Table length=74433>\n",
      "    name     dtype     unit      class    \n",
      "----------- ------- --------- ------------\n",
      "     CATAID   int32           MaskedColumn\n",
      "    GroupID   int32           MaskedColumn\n",
      "RankIterCen   int16           MaskedColumn\n",
      "   logmstar float32 dex(Msun)       Column\n",
      "<Table length=74433>\n",
      "    name     dtype     unit      class    \n",
      "----------- ------- --------- ------------\n",
      "     CATAID   int32           MaskedColumn\n",
      "    GroupID   int32           MaskedColumn\n",
      "RankIterCen   int16           MaskedColumn\n",
      "   logmstar float32 dex(Msun)       Column\n"
     ]
    }
   ],
   "source": [
    "galaxiesAndMasses.info()\n",
    "galaxiesAndMassesGrouped.info()"
   ]
  },
  {
   "cell_type": "code",
   "execution_count": 122,
   "id": "2ec22acc",
   "metadata": {},
   "outputs": [
    {
     "name": "stdout",
     "output_type": "stream",
     "text": [
      "Matching complete, 71717 to be removed\n",
      "Number of rows that will remain: 2716\n",
      "2716 galaxies retained.\n",
      "data written to file.\n"
     ]
    }
   ],
   "source": [
    "# Now find all galaxies in galaxiesAndMasses in these groups and remove them\n",
    "# Iterate through both tables, comparing the two columns and removing any entries that don't match\n",
    "rows_to_remove = list()\n",
    "for i in range(len(galaxiesAndMasses)):\n",
    "    for j in range(len(GroupIDsToRemoveTable)):\n",
    "        if galaxiesAndMasses['GroupID'][i] == GroupIDsToRemoveTable['GroupID'][j]:\n",
    "            rows_to_remove.append(i)\n",
    "            break\n",
    "\n",
    "print(\"Matching complete,\",len(rows_to_remove),\"to be removed\")\n",
    "print(\"Number of rows that will remain:\",len(galaxiesAndMasses)-len(rows_to_remove))\n",
    "\n",
    "# Convert list to table and remove from tabletoReduce. Then write to file.  \n",
    "rows_to_remove_table = Table()\n",
    "rows_to_remove_table['row_number'] = rows_to_remove\n",
    "galaxiesAndMasses.remove_rows(rows_to_remove_table['row_number'])\n",
    "print(len(galaxiesAndMasses),\"galaxies retained.\")\n",
    "\n",
    "galaxiesAndMasses.write('/suphys/fscu5535/python_scripts/mod_data/galaxiesAndMassesOnlyGroupsNoMissingMassesHeaviestInSAMI.fits',format='fits',overwrite=True)\n",
    "print(\"data written to file.\")"
   ]
  },
  {
   "cell_type": "code",
   "execution_count": 123,
   "id": "a83ff663",
   "metadata": {},
   "outputs": [
    {
     "name": "stdout",
     "output_type": "stream",
     "text": [
      "<Table length=71717>\n",
      "   name    dtype\n",
      "---------- -----\n",
      "row_number int64\n"
     ]
    }
   ],
   "source": [
    "rows_to_remove_table.info()"
   ]
  },
  {
   "cell_type": "code",
   "execution_count": 129,
   "id": "2800a893",
   "metadata": {},
   "outputs": [],
   "source": [
    "# Now do a left join with relevant columns of Stelkin and write to file\n",
    "StelkinRelevant = hstack(Stelkin['CATAID','LAMBDAR_RE'])\n",
    "MassGapData = join(galaxiesAndMasses,StelkinRelevant,join_type='left',keys='CATAID')\n",
    "MassGapData.write('/suphys/fscu5535/python_scripts/mod_data/massGapData_OnlyGroupsNoMissingMassesHeaviestInSAMI.fits',format='fits',overwrite=True)"
   ]
  },
  {
   "cell_type": "code",
   "execution_count": 130,
   "id": "b55fd828",
   "metadata": {},
   "outputs": [
    {
     "name": "stdout",
     "output_type": "stream",
     "text": [
      "<Table length=2716>\n",
      "    name     dtype     unit      class     n_bad\n",
      "----------- ------- --------- ------------ -----\n",
      "     CATAID   int64           MaskedColumn     0\n",
      "    GroupID   int32           MaskedColumn     0\n",
      "RankIterCen   int16           MaskedColumn     0\n",
      "   logmstar float32 dex(Msun)       Column     0\n",
      " LAMBDAR_RE float32           MaskedColumn  1801\n"
     ]
    }
   ],
   "source": [
    "MassGapData.info()"
   ]
  },
  {
   "cell_type": "code",
   "execution_count": null,
   "id": "3653290e",
   "metadata": {},
   "outputs": [],
   "source": []
  }
 ],
 "metadata": {
  "kernelspec": {
   "display_name": "Python 3 (ipykernel)",
   "language": "python",
   "name": "python3"
  },
  "language_info": {
   "codemirror_mode": {
    "name": "ipython",
    "version": 3
   },
   "file_extension": ".py",
   "mimetype": "text/x-python",
   "name": "python",
   "nbconvert_exporter": "python",
   "pygments_lexer": "ipython3",
   "version": "3.8.13"
  }
 },
 "nbformat": 4,
 "nbformat_minor": 5
}
