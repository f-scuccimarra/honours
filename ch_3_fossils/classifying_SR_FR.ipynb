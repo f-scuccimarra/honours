{
 "cells": [
  {
   "cell_type": "code",
   "execution_count": 1,
   "id": "55cdd10f",
   "metadata": {},
   "outputs": [
    {
     "name": "stdout",
     "output_type": "stream",
     "text": [
      "<Table length=552>\n",
      "            name             dtype   unit     class     n_bad\n",
      "--------------------------- ------- ------ ------------ -----\n",
      "                    GroupID   int32        MaskedColumn     0\n",
      "                  m1_CATAID   int64        MaskedColumn     0\n",
      "                  m2_CATAID   int64        MaskedColumn     0\n",
      "                         m1 float32              Column     0\n",
      "                         m2 float32              Column     0\n",
      "                      m1-m2 float32              Column     0\n",
      "              m1_LAMBDAR_RE float64              Column   120\n",
      "                       Nfof   int16        MaskedColumn     0\n",
      "                      MassA float32 Msun/h       Column     0\n",
      "              log(MassA)/m1 float64              Column     0\n",
      "                    SatMean float32              Column     0\n",
      "                  SatMedian float32              Column     0\n",
      "                 m1-SatMean float32              Column     0\n",
      "               m1-SatMedian float32              Column     0\n",
      "                 log(MassA) float64              Column     0\n",
      "           IntermediateMean float32              Column     0\n",
      "                 m1-IntMean float32              Column     0\n",
      "              LAMBDAR_RE_EO float32              Column   137\n",
      "            E_LAMBDAR_RE_EO float32              Column   137\n",
      "                      ELLIP float32              Column    16\n",
      "                     LMSTAR float32              Column     0\n",
      "                RE_CIRC_KPC float32              Column    16\n",
      "                ROTATOR_CAT   int64        MaskedColumn     0\n",
      "            INTRINSIC_ELLIP float32              Column   204\n",
      "ROTATOR_CAT_INTRINSIC_ELLIP   int64        MaskedColumn     0\n",
      "                       Zfof float32              Column     0\n",
      "                  IterCenRA float64    deg       Column     0\n",
      "                 IterCenDec float64    deg       Column     0\n",
      "                   IterCenZ float32              Column     0\n",
      "          LAMBDAR_RE_SEEING float32              Column   137\n",
      "        E_LAMBDAR_RE_SEEING float32              Column   137\n",
      "              logage_LW_1Re float64              Column    50\n",
      "              logage_MW_1Re float64              Column    50\n",
      "              linage_LW_1Re float64              Column    50\n",
      "              linage_MW_1Re float64              Column    50\n"
     ]
    }
   ],
   "source": [
    "# Here we classify each galaxy in my data as either a slow rotator (SR) or fast rotator (FR) using:\n",
    "\n",
    "# λRe <λRstart + εe/4, with εe < 0.35 + λRstart/1.538 as the criteria, with λRstart = 0.12\n",
    "# (0.16 in other Jesse paper, 0.08 in Capellari)\n",
    "\n",
    "import astropy.io.fits as fits\n",
    "import numpy as np\n",
    "from astropy.table import unique,Table,setdiff,hstack,join\n",
    "from matplotlib.colors import LogNorm\n",
    "import matplotlib.pyplot as plt\n",
    "import warnings\n",
    "from scipy.stats import sem\n",
    "warnings.filterwarnings(\"ignore\")\n",
    "\n",
    "data = Table.read('/suphys/fscu5535/python_scripts/mod_data/massGaps6.7.fits',memmap=True)\n",
    "data.info()"
   ]
  },
  {
   "cell_type": "code",
   "execution_count": 3,
   "id": "30b81169",
   "metadata": {},
   "outputs": [
    {
     "name": "stdout",
     "output_type": "stream",
     "text": [
      "552\n",
      "16\n",
      "121\n",
      "552\n",
      "77 338 137\n",
      "552 552\n",
      "<Table length=552>\n",
      "       name        dtype\n",
      "------------------ -----\n",
      "         m1_CATAID int64\n",
      "ROTATOR_CAT_SEEING int64\n"
     ]
    }
   ],
   "source": [
    "# 1 = SR, 0 = FR, -999 = bad data\n",
    "CATAIDS = []\n",
    "classification = []\n",
    "badELLIP = 0\n",
    "badSPIN = 0\n",
    "LAMBDA_START = 0.12\n",
    "ELLIP_CUTOFF = 0.35 + LAMBDA_START/1.538\n",
    "\n",
    "for i in range(len(data)):\n",
    "    \n",
    "    if str(data['ELLIP'][i]) == 'nan':\n",
    "        badELLIP += 1\n",
    "        classification.append(-999)\n",
    "        CATAIDS.append(data['m1_CATAID'][i])\n",
    "        \n",
    "    elif str(data['LAMBDAR_RE_SEEING'][i]) == 'nan':\n",
    "        badSPIN += 1\n",
    "        classification.append(-999)\n",
    "        CATAIDS.append(data['m1_CATAID'][i])\n",
    "    \n",
    "    elif data['ELLIP'][i] < ELLIP_CUTOFF and data['LAMBDAR_RE_SEEING'][i] < LAMBDA_START + data['ELLIP'][i]/4:\n",
    "        classification.append(1)\n",
    "        CATAIDS.append(data['m1_CATAID'][i])   \n",
    "        \n",
    "    else:\n",
    "        classification.append(0)\n",
    "        CATAIDS.append(data['m1_CATAID'][i])\n",
    "        \n",
    "print(len(classification))\n",
    "print(badELLIP)\n",
    "print(badSPIN)\n",
    "print(len(CATAIDS))\n",
    "\n",
    "\n",
    "SRcount = 0\n",
    "FRcount = 0\n",
    "uhoh = 0\n",
    "\n",
    "for i in range(len(classification)):\n",
    "    if classification[i] == 1:\n",
    "        SRcount += 1\n",
    "    elif classification[i] == 0:\n",
    "        FRcount += 1\n",
    "    else:\n",
    "        uhoh += 1\n",
    "        \n",
    "print(SRcount, FRcount, uhoh)\n",
    "\n",
    "print(len(CATAIDS),len(list(set(CATAIDS))))\n",
    "\n",
    "classificationTable = Table()\n",
    "classificationTable['m1_CATAID'] = CATAIDS\n",
    "classificationTable['ROTATOR_CAT_SEEING'] = classification\n",
    "classificationTable.info()"
   ]
  },
  {
   "cell_type": "code",
   "execution_count": 4,
   "id": "cf0b5fee",
   "metadata": {},
   "outputs": [
    {
     "name": "stdout",
     "output_type": "stream",
     "text": [
      "<Table length=552>\n",
      "            name             dtype   unit     class     n_bad\n",
      "--------------------------- ------- ------ ------------ -----\n",
      "                    GroupID   int32        MaskedColumn     0\n",
      "                  m1_CATAID   int64        MaskedColumn     0\n",
      "                  m2_CATAID   int64        MaskedColumn     0\n",
      "                         m1 float32              Column     0\n",
      "                         m2 float32              Column     0\n",
      "                      m1-m2 float32              Column     0\n",
      "              m1_LAMBDAR_RE float64              Column   120\n",
      "                       Nfof   int16        MaskedColumn     0\n",
      "                      MassA float32 Msun/h       Column     0\n",
      "              log(MassA)/m1 float64              Column     0\n",
      "                    SatMean float32              Column     0\n",
      "                  SatMedian float32              Column     0\n",
      "                 m1-SatMean float32              Column     0\n",
      "               m1-SatMedian float32              Column     0\n",
      "                 log(MassA) float64              Column     0\n",
      "           IntermediateMean float32              Column     0\n",
      "                 m1-IntMean float32              Column     0\n",
      "              LAMBDAR_RE_EO float32              Column   137\n",
      "            E_LAMBDAR_RE_EO float32              Column   137\n",
      "                      ELLIP float32              Column    16\n",
      "                     LMSTAR float32              Column     0\n",
      "                RE_CIRC_KPC float32              Column    16\n",
      "                ROTATOR_CAT   int64        MaskedColumn     0\n",
      "            INTRINSIC_ELLIP float32              Column   204\n",
      "ROTATOR_CAT_INTRINSIC_ELLIP   int64        MaskedColumn     0\n",
      "                       Zfof float32              Column     0\n",
      "                  IterCenRA float64    deg       Column     0\n",
      "                 IterCenDec float64    deg       Column     0\n",
      "                   IterCenZ float32              Column     0\n",
      "          LAMBDAR_RE_SEEING float32              Column   137\n",
      "        E_LAMBDAR_RE_SEEING float32              Column   137\n",
      "              logage_LW_1Re float64              Column    50\n",
      "              logage_MW_1Re float64              Column    50\n",
      "              linage_LW_1Re float64              Column    50\n",
      "              linage_MW_1Re float64              Column    50\n",
      "<Table length=552>\n",
      "            name             dtype   unit     class     n_bad\n",
      "--------------------------- ------- ------ ------------ -----\n",
      "                    GroupID   int32        MaskedColumn     0\n",
      "                  m1_CATAID   int64        MaskedColumn     0\n",
      "                  m2_CATAID   int64        MaskedColumn     0\n",
      "                         m1 float32              Column     0\n",
      "                         m2 float32              Column     0\n",
      "                      m1-m2 float32              Column     0\n",
      "              m1_LAMBDAR_RE float64              Column   120\n",
      "                       Nfof   int16        MaskedColumn     0\n",
      "                      MassA float32 Msun/h       Column     0\n",
      "              log(MassA)/m1 float64              Column     0\n",
      "                    SatMean float32              Column     0\n",
      "                  SatMedian float32              Column     0\n",
      "                 m1-SatMean float32              Column     0\n",
      "               m1-SatMedian float32              Column     0\n",
      "                 log(MassA) float64              Column     0\n",
      "           IntermediateMean float32              Column     0\n",
      "                 m1-IntMean float32              Column     0\n",
      "              LAMBDAR_RE_EO float32              Column   137\n",
      "            E_LAMBDAR_RE_EO float32              Column   137\n",
      "                      ELLIP float32              Column    16\n",
      "                     LMSTAR float32              Column     0\n",
      "                RE_CIRC_KPC float32              Column    16\n",
      "                ROTATOR_CAT   int64        MaskedColumn     0\n",
      "            INTRINSIC_ELLIP float32              Column   204\n",
      "ROTATOR_CAT_INTRINSIC_ELLIP   int64        MaskedColumn     0\n",
      "                       Zfof float32              Column     0\n",
      "                  IterCenRA float64    deg       Column     0\n",
      "                 IterCenDec float64    deg       Column     0\n",
      "                   IterCenZ float32              Column     0\n",
      "          LAMBDAR_RE_SEEING float32              Column   137\n",
      "        E_LAMBDAR_RE_SEEING float32              Column   137\n",
      "              logage_LW_1Re float64              Column    50\n",
      "              logage_MW_1Re float64              Column    50\n",
      "              linage_LW_1Re float64              Column    50\n",
      "              linage_MW_1Re float64              Column    50\n",
      "         ROTATOR_CAT_SEEING   int64              Column     0\n"
     ]
    }
   ],
   "source": [
    "# left join this data to existing\n",
    "data.info()\n",
    "data = join(data,classificationTable,keys='m1_CATAID',join_type='left')\n",
    "data.info()"
   ]
  },
  {
   "cell_type": "code",
   "execution_count": 5,
   "id": "a39e4256",
   "metadata": {},
   "outputs": [],
   "source": [
    "# save to file\n",
    "data.write('/suphys/fscu5535/python_scripts/mod_data/massGaps6.8.fits')"
   ]
  },
  {
   "cell_type": "code",
   "execution_count": 6,
   "id": "63c7bbcd",
   "metadata": {},
   "outputs": [
    {
     "name": "stdout",
     "output_type": "stream",
     "text": [
      "GroupID m1_CATAID m2_CATAID     m1        m2       m1-m2        m1_LAMBDAR_RE    Nfof      MassA        log(MassA)/m1     SatMean  SatMedian  m1-SatMean  m1-SatMedian     log(MassA)     IntermediateMean  m1-IntMean  LAMBDAR_RE_EO E_LAMBDAR_RE_EO   ELLIP    LMSTAR RE_CIRC_KPC ROTATOR_CAT INTRINSIC_ELLIP ROTATOR_CAT_INTRINSIC_ELLIP     Zfof     IterCenRA    IterCenDec  IterCenZ  LAMBDAR_RE_SEEING E_LAMBDAR_RE_SEEING   logage_LW_1Re    logage_MW_1Re     linage_LW_1Re     linage_MW_1Re   ROTATOR_CAT_SEEING\n",
      "                                                                                           Msun/h                                                                                                                                                                                                                                                           deg          deg                                                                                                                                               \n",
      "------- --------- --------- --------- --------- ------------ ------------------- ---- --------------- ------------------ --------- --------- ------------ ------------ ------------------ ---------------- ------------ ------------- --------------- ---------- ------ ----------- ----------- --------------- --------------------------- ----------- ------------ ----------- ---------- ----------------- ------------------- ----------------- ---------------- ------------------ ---------------- ------------------\n",
      " 306819    505828    505832 10.387863 10.381846 0.0060167313 0.38741493225097656    2 1365320400000.0 1.1973287759986837 10.381846 10.381846 0.0060167313 0.0060167313 12.135234579591296        10.381846 0.0060167313     0.5369838     0.014076988 0.25454757  10.41   3.1190863           0       0.7301002                           0 0.058425408 221.94561766 -1.89598701 0.05821513         0.4569338         0.011978484 9.612753734452378 9.90866344351968 4099715637.6181517 8103328470.82534                  0\n"
     ]
    }
   ],
   "source": [
    "# let's test some random catids\n",
    "data = Table.read('/suphys/fscu5535/python_scripts/mod_data/massGaps6.8.fits')\n",
    "print(data[400])"
   ]
  },
  {
   "cell_type": "code",
   "execution_count": 5,
   "id": "2f832b62",
   "metadata": {},
   "outputs": [
    {
     "name": "stdout",
     "output_type": "stream",
     "text": [
      "<Table length=5536>\n",
      "     name      dtype       unit        class     n_bad\n",
      "------------- ------- ------------- ------------ -----\n",
      "        CATID   int64                     Column     0\n",
      "       RA_OBJ float64           deg       Column     0\n",
      "      DEC_OBJ float64           deg       Column     0\n",
      "       RA_IFU float64           deg       Column     0\n",
      "      DEC_IFU float64           deg       Column     0\n",
      "      r_petro float32           mag       Column     0\n",
      "       r_auto float32           mag       Column     0\n",
      "      z_tonry float32                     Column     0\n",
      "       z_spec float32                     Column     0\n",
      "          M_r float32           mag MaskedColumn   130\n",
      "          r_e float32        arcsec MaskedColumn   101\n",
      "mu_within_1re float32 mag / arcsec2 MaskedColumn   101\n",
      "       mu_1re float32 mag / arcsec2 MaskedColumn   101\n",
      "       mu_2re float32 mag / arcsec2 MaskedColumn   110\n",
      "        ellip float32               MaskedColumn   101\n",
      "           PA float32           deg MaskedColumn   101\n",
      "        Mstar float32           dex       Column     0\n",
      "          g_i float32           mag       Column     0\n",
      "          A_g float32           mag       Column     0\n",
      "    SURV_SAMI   int16                     Column     0\n",
      "    BAD_CLASS   int16                     Column     0\n"
     ]
    }
   ],
   "source": [
    "# read in sami data\n",
    "sami1 = Table.read('/suphys/fscu5535/python_scripts/raw_data/InputCatGAMADR3.fits')\n",
    "sami1.info()"
   ]
  },
  {
   "cell_type": "code",
   "execution_count": 14,
   "id": "7bd2492b",
   "metadata": {},
   "outputs": [
    {
     "name": "stdout",
     "output_type": "stream",
     "text": [
      "144498 0.4173\n"
     ]
    }
   ],
   "source": [
    "for i in range(len(sami1)):\n",
    "    if sami1['CATID'][i] == 144498:\n",
    "        print(sami1['CATID'][i], sami1['ellip'][i])"
   ]
  },
  {
   "cell_type": "code",
   "execution_count": 17,
   "id": "0c5b9e5b",
   "metadata": {},
   "outputs": [
    {
     "name": "stdout",
     "output_type": "stream",
     "text": [
      "<Table length=3430>\n",
      "      name       dtype     class     n_bad\n",
      "--------------- ------- ------------ -----\n",
      "          CATID   int64       Column     0\n",
      "      CATID_EXT   int64       Column     0\n",
      "  SAMI_FILENAME bytes69       Column     0\n",
      "       OBS_DATE bytes21       Column     0\n",
      "             RA float32       Column     0\n",
      "            DEC float32       Column     0\n",
      "         LMSTAR float32       Column     0\n",
      "         Z_SPEC float32       Column     0\n",
      "        Z_TONRY float32 MaskedColumn   984\n",
      "        GMINUSI float32       Column     0\n",
      "       MU_AT_RE float32 MaskedColumn   984\n",
      "       GAL_FLAG float32       Column     0\n",
      "       HWHM_PSF float32       Column     0\n",
      "             RE float32 MaskedColumn    53\n",
      "    RE_CIRC_KPC float32 MaskedColumn    53\n",
      "          ELLIP float32 MaskedColumn    52\n",
      "       N_SERSIC float32 MaskedColumn   108\n",
      "          MTYPE float32       Column     0\n",
      "      KIN_MTYPE float32       Column     0\n",
      "ENV_DIST_TO_5NN float32 MaskedColumn   130\n",
      "   ENV_SURFDENS float32 MaskedColumn   189\n",
      " E_ENV_SURFDENS float32 MaskedColumn   189\n",
      "       SAMI_ISO float32 MaskedColumn  2390\n",
      "   SAMI_CENTRAL float32 MaskedColumn  2752\n",
      "       SAMI_SAT float32 MaskedColumn  1718\n",
      "       HALOMASS float64 MaskedColumn  1040\n",
      "HALOMASS_UNIQUE float64 MaskedColumn  2671\n",
      "       GROUP_ID float32 MaskedColumn  2024\n",
      "HALOMASS_WEIGHT float32       Column     0\n",
      "        PA_PHOT float32 MaskedColumn    52\n",
      "     PA_STELKIN float32 MaskedColumn   616\n",
      "   E_PA_STELKIN float32 MaskedColumn   616\n",
      "      PA_GASKIN float32 MaskedColumn     3\n",
      "    E_PA_GASKIN float32 MaskedColumn     3\n",
      "    RMAX_VSIGMA float32       Column     0\n",
      "       RMAX_H34 float32       Column     0\n",
      "       SIGMA_RE float32 MaskedColumn  1104\n",
      "     E_SIGMA_RE float32 MaskedColumn  1104\n",
      "        VRMS_RE float32 MaskedColumn  1829\n",
      "      E_VRMS_RE float32 MaskedColumn  1829\n",
      " APER_CORR_FLAG float32 MaskedColumn  1597\n",
      " RMAX_APER_CORR float32 MaskedColumn  1597\n",
      "     LAMBDAR_RE float32 MaskedColumn  1597\n",
      "   E_LAMBDAR_RE float32 MaskedColumn  1597\n",
      "    LAMBDAR_MAX float32 MaskedColumn  3130\n",
      "  E_LAMBDAR_MAX float32 MaskedColumn  3130\n",
      "  LAMBDAR_RE_EO float32 MaskedColumn  1597\n",
      "E_LAMBDAR_RE_EO float32 MaskedColumn  1597\n",
      "      VSIGMA_RE float32 MaskedColumn  1597\n",
      "    E_VSIGMA_RE float32 MaskedColumn  1597\n",
      "     VSIGMA_MAX float32 MaskedColumn  3130\n",
      "    EVSIGMA_MAX float32 MaskedColumn  3130\n",
      "   VSIGMA_RE_EO float32 MaskedColumn  1597\n",
      " E_VSIGMA_RE_EO float32 MaskedColumn  1597\n",
      "    MEAN_K51_RE float32 MaskedColumn  1718\n",
      "  E_MEAN_K51_RE float32 MaskedColumn  1718\n",
      "        FR_EE11 float32 MaskedColumn  1717\n",
      "        SR_EE11 float32 MaskedColumn  3310\n",
      "        FR_MC16 float32 MaskedColumn  1272\n",
      "        SR_MC16 float32 MaskedColumn  3313\n",
      "      FR_JVDS20 float32 MaskedColumn  1383\n",
      "      SR_JVDS20 float32 MaskedColumn  3253\n",
      "     PFR_JVDS20 float32 MaskedColumn  1765\n",
      "     PSR_JVDS20 float32 MaskedColumn  3262\n",
      "INTRINSIC_ELLIP float32 MaskedColumn  1769\n",
      "    INCLINATION float32 MaskedColumn  1769\n",
      " LR_SEEING_CORR float32 MaskedColumn  1597\n",
      " VS_SEEING_CORR float32 MaskedColumn  1597\n",
      "       HO_CLASS float32 MaskedColumn  2765\n",
      "   HO_CORRCOEFF float32 MaskedColumn  3430\n",
      "      HSIGMA_RE float32 MaskedColumn  1924\n",
      "    E_HSIGMA_RE float32 MaskedColumn  1924\n",
      "          H3_RE float32 MaskedColumn  1924\n",
      "        E_H3_RE float32 MaskedColumn  1924\n",
      "          H4_RE float32 MaskedColumn  1924\n",
      "        E_H4_RE float32 MaskedColumn  1924\n",
      "      LW_AGE_RE float32 MaskedColumn  1176\n",
      "    E_LW_AGE_RE float32 MaskedColumn  1176\n",
      "      LW_MZH_RE float32 MaskedColumn  1176\n",
      "    E_LW_MZH_RE float32 MaskedColumn  1176\n",
      "    LW_ALPHA_RE float32 MaskedColumn  1176\n",
      "  E_LW_ALPHA_RE float32 MaskedColumn  1176\n",
      "    BT_FRACTION float32 MaskedColumn  1909\n",
      "     BT_NSERSIC float32 MaskedColumn   318\n",
      "        BT_FLAG float32 MaskedColumn   318\n",
      "144498 0.22190128 --\n",
      "144498 0.22190128 --\n",
      "144498 0.22190128 --\n",
      "144498 0.22190128 0.78763527\n"
     ]
    }
   ],
   "source": [
    "# load jesse data:\n",
    "jesse = Table.read('/suphys/fscu5535/python_scripts/raw_data/jvds_stelkin_cat_v012_mge_seecorr_kh20_v20220604_private.fits')\n",
    "jesse.info()\n",
    "for i in range(len(jesse)):\n",
    "        if jesse['CATID'][i] == 144498:\n",
    "            print(jesse['CATID'][i], jesse['ELLIP'][i], jesse['INTRINSIC_ELLIP'][i])\n",
    "            "
   ]
  },
  {
   "cell_type": "code",
   "execution_count": 30,
   "id": "3bb0e26a",
   "metadata": {},
   "outputs": [
    {
     "data": {
      "image/png": "[encoded data removed]",
      "text/plain": [
       "<Figure size 800x600 with 1 Axes>"
      ]
     },
     "metadata": {
      "needs_background": "light"
     },
     "output_type": "display_data"
    }
   ],
   "source": [
    "# plot ellip and intrin ellip hists\n",
    "plt.figure(figsize=(8,6),dpi=100)\n",
    "elliphist = plt.hist(data['ELLIP'])\n",
    "intr_elliphist = plt.hist(data['INTRINSIC_ELLIP'],color = 'r', alpha = 0.3)\n",
    "plt.title(\"Ellipticities\")\n",
    "plt.legend(['ellipticity','intrinsic ellipticity'])\n",
    "\n",
    "# save the plot\n",
    "filename = \"/suphys/fscu5535/python_scripts/figures/EllipticityIntrinsicEllipticityhist.png\"\n",
    "plt.savefig(filename, bbox_inches='tight', pad_inches=0.3, dpi = 250)"
   ]
  },
  {
   "cell_type": "code",
   "execution_count": 10,
   "id": "77a90598",
   "metadata": {},
   "outputs": [
    {
     "name": "stdout",
     "output_type": "stream",
     "text": [
      "137 552\n"
     ]
    }
   ],
   "source": [
    "count = 0\n",
    "\n",
    "for i in range(len(data)):\n",
    "    if data['ROTATOR_CAT_SEEING'][i] == -999:\n",
    "        count += 1\n",
    "        \n",
    "print(count, len(data))"
   ]
  },
  {
   "cell_type": "code",
   "execution_count": 20,
   "id": "35d93098",
   "metadata": {},
   "outputs": [
    {
     "data": {
      "image/png": "[encoded data removed]",
      "text/plain": [
       "<Figure size 800x600 with 1 Axes>"
      ]
     },
     "metadata": {
      "needs_background": "light"
     },
     "output_type": "display_data"
    }
   ],
   "source": [
    "goodcat = []\n",
    "goodcatseeing = []\n",
    "\n",
    "for i in range(len(data)):\n",
    "    if data['ROTATOR_CAT'][i] != -999:\n",
    "        goodcat.append(data['ROTATOR_CAT'][i])\n",
    "        goodcatseeing.append(data['ROTATOR_CAT_SEEING'][i])\n",
    "\n",
    "# compare rotator classifications using different spins\n",
    "plt.figure(figsize=(8,6),dpi=100)\n",
    "plt.hist(goodcat,color='red',alpha = 0.3)\n",
    "plt.hist(goodcatseeing,color='green',alpha=0.3)\n",
    "plt.legend(['seeing + incl. corr.', 'seeing corr.'])\n",
    "plt.xlabel('category (0 = FR, 1 = SR)')\n",
    "plt.show()"
   ]
  },
  {
   "cell_type": "code",
   "execution_count": null,
   "id": "84243cc5",
   "metadata": {},
   "outputs": [],
   "source": []
  }
 ],
 "metadata": {
  "kernelspec": {
   "display_name": "Python 3 (ipykernel)",
   "language": "python",
   "name": "python3"
  },
  "language_info": {
   "codemirror_mode": {
    "name": "ipython",
    "version": 3
   },
   "file_extension": ".py",
   "mimetype": "text/x-python",
   "name": "python",
   "nbconvert_exporter": "python",
   "pygments_lexer": "ipython3",
   "version": "3.8.13"
  }
 },
 "nbformat": 4,
 "nbformat_minor": 5
}
