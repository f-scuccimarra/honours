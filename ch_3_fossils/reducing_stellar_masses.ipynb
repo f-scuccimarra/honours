{
 "cells": [
  {
   "cell_type": "code",
   "execution_count": 9,
   "id": "d64477a1",
   "metadata": {},
   "outputs": [],
   "source": [
    "import astropy.io.fits as fits\n",
    "import numpy as np\n",
    "from astropy.table import unique,Table,setdiff\n",
    "from matplotlib.colors import LogNorm\n",
    "import matplotlib.pyplot as plt\n",
    "\n",
    "# Convert FITS data into astropy table\n",
    "samiDR3Stelkin_in_GAMA = Table.read('/suphys/fscu5535/python_scripts/mod_data/samiDR3Stelkin_in_GAMA.fits', format='fits',memmap=True)\n",
    "GAMA_galaxies_in_SAMI = Table.read('/suphys/fscu5535/python_scripts/mod_data/GAMA_galaxies_in_SAMI.fits', format='fits',memmap=True)\n",
    "cube_list_ISBEST_in_GAMA = Table.read('cube_list_ISBEST.fits',format='fits',memmap=True)\n",
    "StellarMasses = Table.read('/suphys/fscu5535/python_scripts/raw_data/StellarMassesLambdarv24.fits',format='fits',memmap=True)\n",
    "\n"
   ]
  },
  {
   "cell_type": "code",
   "execution_count": 4,
   "id": "dca1dd84",
   "metadata": {},
   "outputs": [
    {
     "name": "stdout",
     "output_type": "stream",
     "text": [
      "Matching complete, 197933 to be removed\n",
      "Number of rows that will remain: 2144\n",
      "2144 galaxies retained.\n"
     ]
    },
    {
     "name": "stderr",
     "output_type": "stream",
     "text": [
      "WARNING: UnitsWarning: 'dex(Msun)' did not parse as fits unit: At col 4, Unit 'Msun' not supported by the FITS standard. Did you mean Sun? If this is meant to be a custom unit, define it with 'u.def_unit'. To have it recognized inside a file reader or other code, enable it with 'u.add_enabled_units'. For details, see https://docs.astropy.org/en/latest/units/combining_and_defining.html [astropy.units.core]\n",
      "WARNING: UnitsWarning: 'Msun' did not parse as fits unit: At col 0, Unit 'Msun' not supported by the FITS standard. Did you mean Sun? If this is meant to be a custom unit, define it with 'u.def_unit'. To have it recognized inside a file reader or other code, enable it with 'u.add_enabled_units'. For details, see https://docs.astropy.org/en/latest/units/combining_and_defining.html [astropy.units.core]\n",
      "WARNING: UnitsWarning: 'dex(yr)' did not parse as fits unit: Unit 'dex' not supported by the FITS standard.  If this is meant to be a custom unit, define it with 'u.def_unit'. To have it recognized inside a file reader or other code, enable it with 'u.add_enabled_units'. For details, see https://docs.astropy.org/en/latest/units/combining_and_defining.html [astropy.units.core]\n",
      "WARNING: UnitsWarning: 'dex(Msun/Lsun,i)' did not parse as fits unit: At col 4, Unit 'Msun' not supported by the FITS standard. Did you mean Sun? If this is meant to be a custom unit, define it with 'u.def_unit'. To have it recognized inside a file reader or other code, enable it with 'u.add_enabled_units'. For details, see https://docs.astropy.org/en/latest/units/combining_and_defining.html [astropy.units.core]\n"
     ]
    }
   ],
   "source": [
    "# Remove rows in StellarMasses for CATAID's that aren't in SAMI\n",
    "rows_to_remove = list()\n",
    "for i in range(len(StellarMasses)):\n",
    "    matching = False\n",
    "    for j in range(len(GAMA_galaxies_in_SAMI)):\n",
    "        if matching == False and StellarMasses['CATAID'][i] == GAMA_galaxies_in_SAMI['CATAID'][j]:\n",
    "            matching = True\n",
    "    if matching == False:\n",
    "        rows_to_remove.append(i)\n",
    "print(\"Matching complete,\",len(rows_to_remove),\"to be removed\")\n",
    "print(\"Number of rows that will remain:\",len(StellarMasses)-len(rows_to_remove))\n",
    "\n",
    "# Convert list to table and remove from StellarMasses. Then write to file.\n",
    "rows_to_remove_table = Table()\n",
    "rows_to_remove_table['row_number'] = rows_to_remove\n",
    "StellarMasses.remove_rows(rows_to_remove_table['row_number'])\n",
    "print(len(StellarMasses),\"galaxies retained.\")\n",
    "StellarMasses.write('/suphys/fscu5535/python_scripts/mod_data/StellarMasses_in_SAMI.fits',format='fits')"
   ]
  },
  {
   "cell_type": "code",
   "execution_count": 8,
   "id": "b2f23834",
   "metadata": {},
   "outputs": [
    {
     "name": "stdout",
     "output_type": "stream",
     "text": [
      " CATAID\n",
      "-------\n",
      "   6821\n",
      "   6837\n",
      "   7139\n",
      "   7206\n",
      "   7289\n",
      "   7715\n",
      "   7839\n",
      "   7841\n",
      "   7946\n",
      "   7969\n",
      "    ...\n",
      "3631885\n",
      "3631902\n",
      "3632384\n",
      "3634556\n",
      "3894635\n",
      "3895257\n",
      "3895503\n",
      "3895823\n",
      "3896912\n",
      "3897281\n",
      "3913888\n",
      "Length = 2144 rows\n",
      "3 CATIDs missing. They are: [48506, 92676, 136602]\n"
     ]
    }
   ],
   "source": [
    "# We are short 3 galaxies. Find out if we're missing StellarMass data on them\n",
    "StellarMasses_in_SAMI = Table.read('/suphys/fscu5535/python_scripts/mod_data/StellarMasses_in_SAMI.fits',format='fits',memmap=True)\n",
    "print(StellarMasses_in_SAMI['CATAID'])\n",
    "missing_CATAIDs = list()\n",
    "for i in range(len(samiDR3Stelkin_in_GAMA)):\n",
    "    Found = False\n",
    "    for j in range(len(StellarMasses_in_SAMI)):\n",
    "        if Found == False and StellarMasses_in_SAMI['CATAID'][j] == samiDR3Stelkin_in_GAMA['CATID'][i]:\n",
    "            Found = True\n",
    "    if Found == False:\n",
    "        missing_CATAIDs.append(samiDR3Stelkin_in_GAMA['CATID'][i])\n",
    "print(len(missing_CATAIDs),\"CATIDs missing. They are:\", missing_CATAIDs)"
   ]
  },
  {
   "cell_type": "code",
   "execution_count": 13,
   "id": "25212659",
   "metadata": {},
   "outputs": [
    {
     "name": "stdout",
     "output_type": "stream",
     "text": [
      "Found the following CATAIDs: []\n"
     ]
    }
   ],
   "source": [
    "# Now look for these CATID's in StellarMasses\n",
    "found = list()\n",
    "for i in missing_CATAIDs:\n",
    "    for j in range(len(StellarMasses)):\n",
    "        if i == StellarMasses['CATAID'][j]:\n",
    "            found.append(i)\n",
    "print(\"Found the following CATAIDs:\",found)    "
   ]
  },
  {
   "cell_type": "code",
   "execution_count": 15,
   "id": "52158a51",
   "metadata": {},
   "outputs": [
    {
     "name": "stderr",
     "output_type": "stream",
     "text": [
      "WARNING: UnitsWarning: 'dex(Msun)' did not parse as fits unit: At col 4, Unit 'Msun' not supported by the FITS standard. Did you mean Sun? If this is meant to be a custom unit, define it with 'u.def_unit'. To have it recognized inside a file reader or other code, enable it with 'u.add_enabled_units'. For details, see https://docs.astropy.org/en/latest/units/combining_and_defining.html [astropy.units.core]\n",
      "WARNING: UnitsWarning: 'Msun' did not parse as fits unit: At col 0, Unit 'Msun' not supported by the FITS standard. Did you mean Sun? If this is meant to be a custom unit, define it with 'u.def_unit'. To have it recognized inside a file reader or other code, enable it with 'u.add_enabled_units'. For details, see https://docs.astropy.org/en/latest/units/combining_and_defining.html [astropy.units.core]\n",
      "WARNING: UnitsWarning: 'dex(yr)' did not parse as fits unit: Unit 'dex' not supported by the FITS standard.  If this is meant to be a custom unit, define it with 'u.def_unit'. To have it recognized inside a file reader or other code, enable it with 'u.add_enabled_units'. For details, see https://docs.astropy.org/en/latest/units/combining_and_defining.html [astropy.units.core]\n",
      "WARNING: UnitsWarning: 'dex(Msun/Lsun,i)' did not parse as fits unit: At col 4, Unit 'Msun' not supported by the FITS standard. Did you mean Sun? If this is meant to be a custom unit, define it with 'u.def_unit'. To have it recognized inside a file reader or other code, enable it with 'u.add_enabled_units'. For details, see https://docs.astropy.org/en/latest/units/combining_and_defining.html [astropy.units.core]\n"
     ]
    },
    {
     "name": "stdout",
     "output_type": "stream",
     "text": [
      "Found the following CATAIDs: []\n"
     ]
    }
   ],
   "source": [
    "# So these CATAID's definitely aren't in StellarMassesLambdar. Look for them in StellarMassesGKV\n",
    "StellarMassesGKV = Table.read('/suphys/fscu5535/python_scripts/raw_data/StellarMassesGKVv24.fits',format='fits',memmap=True)\n",
    "found = list()\n",
    "for i in missing_CATAIDs:\n",
    "    for j in range(len(StellarMassesGKV)):\n",
    "        if i == StellarMassesGKV['uberID'][j]:\n",
    "            found.append(i)\n",
    "print(\"Found the following CATAIDs:\",found)  "
   ]
  },
  {
   "cell_type": "code",
   "execution_count": 17,
   "id": "6ca03641",
   "metadata": {},
   "outputs": [
    {
     "name": "stderr",
     "output_type": "stream",
     "text": [
      "WARNING: UnitsWarning: 'dex(Msun)' did not parse as fits unit: At col 4, Unit 'Msun' not supported by the FITS standard. Did you mean Sun? If this is meant to be a custom unit, define it with 'u.def_unit'. To have it recognized inside a file reader or other code, enable it with 'u.add_enabled_units'. For details, see https://docs.astropy.org/en/latest/units/combining_and_defining.html [astropy.units.core]\n",
      "WARNING: UnitsWarning: 'Msun' did not parse as fits unit: At col 0, Unit 'Msun' not supported by the FITS standard. Did you mean Sun? If this is meant to be a custom unit, define it with 'u.def_unit'. To have it recognized inside a file reader or other code, enable it with 'u.add_enabled_units'. For details, see https://docs.astropy.org/en/latest/units/combining_and_defining.html [astropy.units.core]\n",
      "WARNING: UnitsWarning: 'dex(yr)' did not parse as fits unit: Unit 'dex' not supported by the FITS standard.  If this is meant to be a custom unit, define it with 'u.def_unit'. To have it recognized inside a file reader or other code, enable it with 'u.add_enabled_units'. For details, see https://docs.astropy.org/en/latest/units/combining_and_defining.html [astropy.units.core]\n",
      "WARNING: UnitsWarning: 'dex(Msun/Lsun,i)' did not parse as fits unit: At col 4, Unit 'Msun' not supported by the FITS standard. Did you mean Sun? If this is meant to be a custom unit, define it with 'u.def_unit'. To have it recognized inside a file reader or other code, enable it with 'u.add_enabled_units'. For details, see https://docs.astropy.org/en/latest/units/combining_and_defining.html [astropy.units.core]\n"
     ]
    },
    {
     "name": "stdout",
     "output_type": "stream",
     "text": [
      "Found the following CATAIDs: [48506, 92676, 136602]\n"
     ]
    }
   ],
   "source": [
    "# Not there either. Try StellarMassesPanChrom\n",
    "StellarMassesPanChrom = Table.read('/suphys/fscu5535/python_scripts/raw_data/StellarMassesPanChromv24.fits',format='fits',memmap=True)\n",
    "found = list()\n",
    "for i in missing_CATAIDs:\n",
    "    for j in range(len(StellarMassesPanChrom)):\n",
    "        if i == StellarMassesPanChrom['CATAID'][j]:\n",
    "            found.append(i)\n",
    "print(\"Found the following CATAIDs:\",found)  "
   ]
  },
  {
   "cell_type": "code",
   "execution_count": 18,
   "id": "cc66eba0",
   "metadata": {},
   "outputs": [
    {
     "name": "stdout",
     "output_type": "stream",
     "text": [
      "Matching complete, 198681 to be removed\n",
      "Number of rows that will remain: 2147\n",
      "2147 galaxies retained.\n"
     ]
    },
    {
     "name": "stderr",
     "output_type": "stream",
     "text": [
      "WARNING: UnitsWarning: 'dex(Msun)' did not parse as fits unit: At col 4, Unit 'Msun' not supported by the FITS standard. Did you mean Sun? If this is meant to be a custom unit, define it with 'u.def_unit'. To have it recognized inside a file reader or other code, enable it with 'u.add_enabled_units'. For details, see https://docs.astropy.org/en/latest/units/combining_and_defining.html [astropy.units.core]\n",
      "WARNING: UnitsWarning: 'Msun' did not parse as fits unit: At col 0, Unit 'Msun' not supported by the FITS standard. Did you mean Sun? If this is meant to be a custom unit, define it with 'u.def_unit'. To have it recognized inside a file reader or other code, enable it with 'u.add_enabled_units'. For details, see https://docs.astropy.org/en/latest/units/combining_and_defining.html [astropy.units.core]\n",
      "WARNING: UnitsWarning: 'dex(yr)' did not parse as fits unit: Unit 'dex' not supported by the FITS standard.  If this is meant to be a custom unit, define it with 'u.def_unit'. To have it recognized inside a file reader or other code, enable it with 'u.add_enabled_units'. For details, see https://docs.astropy.org/en/latest/units/combining_and_defining.html [astropy.units.core]\n",
      "WARNING: UnitsWarning: 'dex(Msun/Lsun,i)' did not parse as fits unit: At col 4, Unit 'Msun' not supported by the FITS standard. Did you mean Sun? If this is meant to be a custom unit, define it with 'u.def_unit'. To have it recognized inside a file reader or other code, enable it with 'u.add_enabled_units'. For details, see https://docs.astropy.org/en/latest/units/combining_and_defining.html [astropy.units.core]\n"
     ]
    }
   ],
   "source": [
    "# Great! They're in this one. See if the other 2144 galaxies are in this one too\n",
    "# Remove rows in StellarMassesPanChrom for CATAID's that aren't in SAMI\n",
    "\n",
    "rows_to_remove = list()\n",
    "for i in range(len(StellarMassesPanChrom)):\n",
    "    matching = False\n",
    "    for j in range(len(GAMA_galaxies_in_SAMI)):\n",
    "        if matching == False and StellarMassesPanChrom['CATAID'][i] == GAMA_galaxies_in_SAMI['CATAID'][j]:\n",
    "            matching = True\n",
    "    if matching == False:\n",
    "        rows_to_remove.append(i)\n",
    "print(\"Matching complete,\",len(rows_to_remove),\"to be removed\")\n",
    "print(\"Number of rows that will remain:\",len(StellarMassesPanChrom)-len(rows_to_remove))\n",
    "\n",
    "# Convert list to table and remove from StellarMasses. Then write to file.\n",
    "rows_to_remove_table = Table()\n",
    "rows_to_remove_table['row_number'] = rows_to_remove\n",
    "StellarMassesPanChrom.remove_rows(rows_to_remove_table['row_number'])\n",
    "print(len(StellarMassesPanChrom),\"galaxies retained.\")\n",
    "StellarMassesPanChrom.write('/suphys/fscu5535/python_scripts/mod_data/StellarMassesPanChrom_in_SAMI.fits',format='fits')"
   ]
  },
  {
   "cell_type": "code",
   "execution_count": 19,
   "id": "f27cfd00",
   "metadata": {},
   "outputs": [
    {
     "name": "stdout",
     "output_type": "stream",
     "text": [
      " CATAID\n",
      "-------\n",
      "   6821\n",
      "   6837\n",
      "   7139\n",
      "   7206\n",
      "   7289\n",
      "   7715\n",
      "   7839\n",
      "   7841\n",
      "   7946\n",
      "   7969\n",
      "    ...\n",
      "3631885\n",
      "3631902\n",
      "3632384\n",
      "3634556\n",
      "3894635\n",
      "3895257\n",
      "3895503\n",
      "3895823\n",
      "3896912\n",
      "3897281\n",
      "3913888\n",
      "Length = 2147 rows\n"
     ]
    }
   ],
   "source": [
    "print(GAMA_galaxies_in_SAMI['CATAID'])"
   ]
  },
  {
   "cell_type": "code",
   "execution_count": 20,
   "id": "f3e0182e",
   "metadata": {},
   "outputs": [
    {
     "name": "stdout",
     "output_type": "stream",
     "text": [
      " CATAID\n",
      "-------\n",
      "   6821\n",
      "   6837\n",
      "   7139\n",
      "   7206\n",
      "   7289\n",
      "   7715\n",
      "   7839\n",
      "   7841\n",
      "    ...\n",
      "3634556\n",
      "3894635\n",
      "3895257\n",
      "3895503\n",
      "3895823\n",
      "3896912\n",
      "3897281\n",
      "3913888\n",
      "Length = 2147 rows\n"
     ]
    }
   ],
   "source": [
    "print(StellarMassesPanChrom['CATAID'])"
   ]
  },
  {
   "cell_type": "code",
   "execution_count": null,
   "id": "d2fe2933",
   "metadata": {},
   "outputs": [],
   "source": []
  }
 ],
 "metadata": {
  "kernelspec": {
   "display_name": "Python 3 (ipykernel)",
   "language": "python",
   "name": "python3"
  },
  "language_info": {
   "codemirror_mode": {
    "name": "ipython",
    "version": 3
   },
   "file_extension": ".py",
   "mimetype": "text/x-python",
   "name": "python",
   "nbconvert_exporter": "python",
   "pygments_lexer": "ipython3",
   "version": "3.8.13"
  }
 },
 "nbformat": 4,
 "nbformat_minor": 5
}
