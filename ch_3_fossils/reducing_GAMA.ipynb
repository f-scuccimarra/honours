{
 "cells": [
  {
   "cell_type": "code",
   "execution_count": 4,
   "id": "34cfc9f3",
   "metadata": {},
   "outputs": [
    {
     "name": "stdout",
     "output_type": "stream",
     "text": [
      "Table info: \n",
      "\n",
      "<Table length=2147>\n",
      "      name       dtype\n",
      "---------------- -----\n",
      "Row_in_G3CGalv10 int64\n",
      "          CATAID int32\n",
      "\n",
      "\n",
      "\n",
      "Row_in_G3CGalv10  CATAID\n",
      "---------------- -------\n",
      "              18    6821\n",
      "              30    6837\n",
      "             310    7139\n",
      "             371    7206\n",
      "             447    7289\n",
      "             840    7715\n",
      "             950    7839\n",
      "             952    7841\n",
      "            1054    7946\n",
      "            1076    7969\n",
      "             ...     ...\n",
      "          177645 3631885\n",
      "          177647 3631902\n",
      "          177705 3632384\n",
      "          178000 3634556\n",
      "          181814 3894635\n",
      "          181848 3895257\n",
      "          181870 3895503\n",
      "          181903 3895823\n",
      "          182003 3896912\n",
      "          182049 3897281\n",
      "          183917 3913888\n",
      "Length = 2147 rows \n",
      "\n",
      "\n"
     ]
    }
   ],
   "source": [
    "# Playing around with SAMI data!\n",
    "\n",
    "import astropy.io.fits as fits\n",
    "import numpy as np\n",
    "from astropy.table import unique,Table, setdiff\n",
    "from matplotlib.colors import LogNorm\n",
    "import matplotlib.pyplot as plt\n",
    "\n",
    "# Read in ALL GAMA CATID data\n",
    "GAMA_CATAID_in_SAMI = Table.read('/suphys/fscu5535/python_scripts/mod_data/GAMA_CATAID_in_SAMI.fits', format='fits',memmap=True)\n",
    "\n",
    "# Display basic table info\n",
    "print(\"Table info:\",\"\\n\")\n",
    "GAMA_CATAID_in_SAMI.info()\n",
    "\n",
    "print(\"\\n\\n\")\n",
    "\n",
    "# Display a preview\n",
    "print(GAMA_CATAID_in_SAMI,\"\\n\\n\")\n"
   ]
  },
  {
   "cell_type": "code",
   "execution_count": 41,
   "id": "01d22249",
   "metadata": {},
   "outputs": [
    {
     "name": "stdout",
     "output_type": "stream",
     "text": [
      "Row_in_G3CGalv10\n",
      "----------------\n",
      "               0\n",
      "               1\n",
      "               2\n",
      "               3\n",
      "               4\n",
      "               5\n",
      "               6\n",
      "             ...\n",
      "          204103\n",
      "          204104\n",
      "          204105\n",
      "          204106\n",
      "          204107\n",
      "          204108\n",
      "          204109\n",
      "Length = 201963 rows\n",
      " CATAID      RA          Dec     ...   SepCen    CoSepCen    AngSepCen \n",
      "            deg          deg     ...   arcsec    Mpc / h      Mpc / h  \n",
      "------- ------------ ----------- ... --------- ------------ -----------\n",
      "   6821 174.15315328  0.81543855 ...    -999.0       -999.0      -999.0\n",
      "   6837 174.30278702  0.78999299 ... 3.0418773 0.0032999155 0.003067586\n",
      "   7139 175.82830466  0.74788117 ... 13.156917  0.014500773 0.013464489\n",
      "   7206 176.16409281   0.7495694 ...  47.97455   0.06474207 0.059148442\n",
      "   7289 176.77502491  0.63568906 ... 6.5413647  0.008245394 0.007576955\n",
      "   7715 179.22873399  0.72391972 ...  55.98571   0.06244857 0.057935007\n",
      "    ...          ...         ... ...       ...          ...         ...\n",
      "3894635 129.07610413 -0.84274256 ...    -999.0       -999.0      -999.0\n",
      "3895257 129.43796633 -0.86161142 ...    -999.0       -999.0      -999.0\n",
      "3895503 129.49317179 -0.94238616 ...    -999.0       -999.0      -999.0\n",
      "3895823 129.66193853 -0.85333128 ...    -999.0       -999.0      -999.0\n",
      "3896912 130.26668651 -0.90120625 ...    -999.0       -999.0      -999.0\n",
      "3897281 130.38835354 -0.82828163 ... 12.774757  0.010703603 0.010114005\n",
      "3913888 138.16089989 -0.86961375 ...    -999.0       -999.0      -999.0\n",
      "Length = 2147 rows\n",
      "Table written to file.\n"
     ]
    }
   ],
   "source": [
    "# Make a list same length as G3CGalV10\n",
    "number_of_galaxies = list(range(204110))\n",
    "\n",
    "# Convert it into a table\n",
    "number_of_galaxies_as_table = Table()\n",
    "number_of_galaxies_as_table['Row_in_G3CGalv10'] = number_of_galaxies\n",
    "\n",
    "# Work out the galaxies to remove by computing the set difference\n",
    "galaxies_to_remove = setdiff(number_of_galaxies_as_table,GAMA_CATAID_in_SAMI,keys=['Row_in_G3CGalv10'])\n",
    "print(galaxies_to_remove)\n",
    "\n",
    "# Now that we have the row numbers of all the galaxies we want to remove, remove those rows from G3CGalv10 table\n",
    "GAMA_galaxies_in_SAMI = Table.read('G3CGalv10.fits',format='fits',memmap=True)\n",
    "GAMA_galaxies_in_SAMI.remove_rows(set_diff['Row_in_G3CGalv10'])\n",
    "\n",
    "# Store the table for future use\n",
    "GAMA_galaxies_in_SAMI.write('GAMA_galaxies_in_SAMI.fits',format='fits')\n",
    "print(\"Table written to file.\")\n"
   ]
  },
  {
   "cell_type": "code",
   "execution_count": null,
   "id": "e6d259ec",
   "metadata": {},
   "outputs": [],
   "source": []
  }
 ],
 "metadata": {
  "kernelspec": {
   "display_name": "Python 3 (ipykernel)",
   "language": "python",
   "name": "python3"
  },
  "language_info": {
   "codemirror_mode": {
    "name": "ipython",
    "version": 3
   },
   "file_extension": ".py",
   "mimetype": "text/x-python",
   "name": "python",
   "nbconvert_exporter": "python",
   "pygments_lexer": "ipython3",
   "version": "3.8.13"
  }
 },
 "nbformat": 4,
 "nbformat_minor": 5
}
